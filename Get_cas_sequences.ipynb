{
 "cells": [
  {
   "cell_type": "code",
   "execution_count": 1,
   "id": "1bd26155",
   "metadata": {},
   "outputs": [],
   "source": [
    "import pathlib\n",
    "import torch\n",
    "\n",
    "from esm import FastaBatchedDataset, pretrained"
   ]
  },
  {
   "cell_type": "code",
   "execution_count": 2,
   "id": "be09f4ca",
   "metadata": {},
   "outputs": [],
   "source": [
    "import os\n",
    "import pandas as pd"
   ]
  },
  {
   "cell_type": "code",
   "execution_count": 3,
   "id": "ff131f35",
   "metadata": {},
   "outputs": [],
   "source": [
    "import requests\n",
    "\n",
    "def fetch_protein_data(base_term, variants=['','a','b','c','d'], topn=200):\n",
    "    base_url = \"https://eutils.ncbi.nlm.nih.gov/entrez/eutils/esearch.fcgi\"\n",
    "    # Constructing the search term with explicit variants\n",
    "    all_results = []\n",
    "    all_search = []\n",
    "    for variant in variants:\n",
    "        term = f\"{base_term}{variant}\"\n",
    "\n",
    "        params = {\n",
    "            'db': 'protein',\n",
    "            'term': f\"{term}[title]\",  # Searches only in the titles\n",
    "            'retmax': topn,\n",
    "            'retmode': 'json'\n",
    "        }\n",
    "\n",
    "        response = requests.get(base_url, params=params)\n",
    "        print(f\"Status Code: {response.status_code}\")\n",
    "        if response.status_code == 200:\n",
    "            search_data = response.json()\n",
    "            all_results.extend(search_data['esearchresult']['idlist'])\n",
    "            all_search.append(search_data)\n",
    "    return all_results,all_search\n",
    "# jj,qq  =fetch_protein_data('cas1', variants=['','a','b','c','d'], topn=200)"
   ]
  },
  {
   "cell_type": "code",
   "execution_count": null,
   "id": "6664ebbd",
   "metadata": {},
   "outputs": [],
   "source": []
  },
  {
   "cell_type": "code",
   "execution_count": 4,
   "id": "b16cbd11",
   "metadata": {},
   "outputs": [],
   "source": [
    "from Bio import Entrez\n",
    "from Bio import SeqIO\n",
    "\n",
    "def download_protein_sequences(protein_ids, email, output_file='protein_sequences.fasta'):\n",
    "    # Set the email address to be used by NCBI for usage monitoring\n",
    "    Entrez.email = email\n",
    "    \n",
    "    # Open the output file in write mode\n",
    "    with open(output_file, 'w') as out_file:\n",
    "        # Process each protein ID\n",
    "        for protein_id in protein_ids:\n",
    "            # Fetch the sequence from NCBI\n",
    "            handle = Entrez.efetch(db='protein', id=protein_id, rettype='fasta', retmode='text')\n",
    "            # Read the sequence from the handle\n",
    "            record = SeqIO.read(handle, 'fasta')\n",
    "            # Write the sequence to the output file\n",
    "            SeqIO.write(record, out_file, 'fasta')\n",
    "            # Close the handle\n",
    "            handle.close()\n",
    "            \n",
    "    print(f\"Sequences have been saved to {output_file}\")\n",
    "\n",
    "# Example usage\n",
    "# protein_ids = ['YP_009724390', 'NP_000240']  # Add your list of NCBI protein IDs here\n",
    "email = 'your.email@example.com'  # Replace with your email\n",
    "# download_protein_sequences(xxx,  'sam.salari@roche.com','/home/salaris/esm_atlas/data/cas1/cas1.fasta')\n"
   ]
  },
  {
   "cell_type": "code",
   "execution_count": null,
   "id": "ad399b52",
   "metadata": {},
   "outputs": [],
   "source": []
  },
  {
   "cell_type": "code",
   "execution_count": 5,
   "id": "caaa2ac5",
   "metadata": {},
   "outputs": [],
   "source": [
    "caslist = ['cas1','cas2','cas3','cas4','cas5','cas6','cas7','cas8','cas9','cas10','cas11','cas12','cas13']\n",
    "# caslist = ['cas9']"
   ]
  },
  {
   "cell_type": "code",
   "execution_count": 6,
   "id": "f3026cab",
   "metadata": {},
   "outputs": [
    {
     "name": "stdout",
     "output_type": "stream",
     "text": [
      "Status Code: 200\n",
      "Status Code: 200\n",
      "Status Code: 200\n",
      "Status Code: 200\n",
      "Status Code: 200\n",
      "Status Code: 200\n",
      "Status Code: 200\n",
      "Status Code: 200\n",
      "Status Code: 200\n",
      "Status Code: 200\n",
      "Status Code: 200\n",
      "Status Code: 200\n",
      "Status Code: 200\n",
      "Status Code: 200\n",
      "Status Code: 200\n",
      "Status Code: 200\n",
      "Status Code: 200\n",
      "Status Code: 200\n",
      "Status Code: 200\n",
      "Status Code: 200\n",
      "Status Code: 200\n",
      "Status Code: 200\n",
      "Status Code: 200\n",
      "Status Code: 200\n",
      "Status Code: 200\n",
      "Status Code: 200\n",
      "Status Code: 200\n",
      "Status Code: 200\n",
      "Status Code: 200\n",
      "Status Code: 200\n",
      "Status Code: 200\n",
      "Status Code: 200\n",
      "Status Code: 200\n",
      "Status Code: 200\n",
      "Status Code: 200\n",
      "Status Code: 200\n",
      "Status Code: 200\n",
      "Status Code: 200\n",
      "Status Code: 200\n",
      "Status Code: 200\n",
      "Status Code: 200\n",
      "Status Code: 200\n",
      "Status Code: 200\n",
      "Status Code: 200\n",
      "Status Code: 200\n",
      "Status Code: 200\n",
      "Status Code: 200\n",
      "Status Code: 200\n",
      "Status Code: 200\n",
      "Status Code: 200\n",
      "Status Code: 200\n",
      "Status Code: 200\n",
      "Status Code: 200\n",
      "Status Code: 200\n",
      "Status Code: 200\n",
      "Status Code: 200\n",
      "Status Code: 200\n",
      "Status Code: 200\n",
      "Status Code: 200\n",
      "Status Code: 200\n",
      "Status Code: 200\n",
      "Status Code: 200\n",
      "Status Code: 200\n",
      "Status Code: 200\n",
      "Status Code: 200\n"
     ]
    }
   ],
   "source": [
    "all_cas_ids = dict()\n",
    "for cas in caslist:\n",
    "    xx,_ = fetch_protein_data(cas,variants=['','a','b','c','d'],topn= 5000)\n",
    "    all_cas_ids.update({cas:xx})"
   ]
  },
  {
   "cell_type": "code",
   "execution_count": 7,
   "id": "00035f67",
   "metadata": {},
   "outputs": [
    {
     "name": "stdout",
     "output_type": "stream",
     "text": [
      "cas1 14691\n",
      "cas2 5000\n",
      "cas3 5001\n",
      "cas4 5173\n",
      "cas5 13664\n",
      "cas6 5019\n",
      "cas7 3241\n",
      "cas8 265\n",
      "cas9 5006\n",
      "cas10 110\n",
      "cas11 86\n",
      "cas12 149\n",
      "cas13 780\n"
     ]
    }
   ],
   "source": [
    "for cas in caslist:\n",
    "    print(cas, len(all_cas_ids[cas]))"
   ]
  },
  {
   "cell_type": "code",
   "execution_count": 8,
   "id": "ef2d88fa",
   "metadata": {},
   "outputs": [
    {
     "name": "stdout",
     "output_type": "stream",
     "text": [
      "/home/salaris/protein_model/data2/cas1/\n",
      "/home/salaris/protein_model/data2/cas1//cas1_sequence.fasta\n",
      "Sequences have been saved to /home/salaris/protein_model/data2/cas1//cas1_sequence.fasta\n",
      "/home/salaris/protein_model/data2/cas2/\n",
      "/home/salaris/protein_model/data2/cas2//cas2_sequence.fasta\n",
      "Sequences have been saved to /home/salaris/protein_model/data2/cas2//cas2_sequence.fasta\n",
      "/home/salaris/protein_model/data2/cas3/\n",
      "/home/salaris/protein_model/data2/cas3//cas3_sequence.fasta\n",
      "Sequences have been saved to /home/salaris/protein_model/data2/cas3//cas3_sequence.fasta\n",
      "/home/salaris/protein_model/data2/cas4/\n",
      "/home/salaris/protein_model/data2/cas4//cas4_sequence.fasta\n",
      "Sequences have been saved to /home/salaris/protein_model/data2/cas4//cas4_sequence.fasta\n",
      "/home/salaris/protein_model/data2/cas5/\n",
      "/home/salaris/protein_model/data2/cas5//cas5_sequence.fasta\n",
      "Sequences have been saved to /home/salaris/protein_model/data2/cas5//cas5_sequence.fasta\n",
      "/home/salaris/protein_model/data2/cas6/\n",
      "/home/salaris/protein_model/data2/cas6//cas6_sequence.fasta\n",
      "Sequences have been saved to /home/salaris/protein_model/data2/cas6//cas6_sequence.fasta\n",
      "/home/salaris/protein_model/data2/cas7/\n",
      "/home/salaris/protein_model/data2/cas7//cas7_sequence.fasta\n",
      "Sequences have been saved to /home/salaris/protein_model/data2/cas7//cas7_sequence.fasta\n",
      "/home/salaris/protein_model/data2/cas8/\n",
      "/home/salaris/protein_model/data2/cas8//cas8_sequence.fasta\n",
      "Sequences have been saved to /home/salaris/protein_model/data2/cas8//cas8_sequence.fasta\n",
      "/home/salaris/protein_model/data2/cas9/\n",
      "/home/salaris/protein_model/data2/cas9//cas9_sequence.fasta\n",
      "Sequences have been saved to /home/salaris/protein_model/data2/cas9//cas9_sequence.fasta\n",
      "/home/salaris/protein_model/data2/cas10/\n",
      "/home/salaris/protein_model/data2/cas10//cas10_sequence.fasta\n",
      "Sequences have been saved to /home/salaris/protein_model/data2/cas10//cas10_sequence.fasta\n",
      "/home/salaris/protein_model/data2/cas11/\n",
      "/home/salaris/protein_model/data2/cas11//cas11_sequence.fasta\n",
      "Sequences have been saved to /home/salaris/protein_model/data2/cas11//cas11_sequence.fasta\n",
      "/home/salaris/protein_model/data2/cas12/\n",
      "/home/salaris/protein_model/data2/cas12//cas12_sequence.fasta\n",
      "Sequences have been saved to /home/salaris/protein_model/data2/cas12//cas12_sequence.fasta\n",
      "/home/salaris/protein_model/data2/cas13/\n",
      "/home/salaris/protein_model/data2/cas13//cas13_sequence.fasta\n",
      "Sequences have been saved to /home/salaris/protein_model/data2/cas13//cas13_sequence.fasta\n"
     ]
    }
   ],
   "source": [
    "\n",
    "\n",
    "for cas in caslist:\n",
    "    \n",
    "    casfolder = f\"/home/salaris/protein_model/data2/{cas}/\"\n",
    "    print(casfolder)\n",
    "    os.makedirs(os.path.dirname(casfolder), exist_ok=True)\n",
    "    \n",
    "    xx = all_cas_ids[cas]\n",
    "    casfasta = f'{casfolder}/{cas}_sequence.fasta'\n",
    "    print(casfasta)\n",
    "    download_protein_sequences(protein_ids=xx,email=  'sam.salari@roche.com',output_file=casfasta)\n"
   ]
  },
  {
   "cell_type": "code",
   "execution_count": 9,
   "id": "1ca372af",
   "metadata": {},
   "outputs": [
    {
     "name": "stdout",
     "output_type": "stream",
     "text": [
      "all_data_20240628_17.csv\t\t       cas10  cas5\r\n",
      "all_data_20240628_17.csvtfinal_validation.csv  cas11  cas6\r\n",
      "all_data_20240628_17.csvtrain_test.csv\t       cas12  cas7\r\n",
      "all_data_20240629_09.csv\t\t       cas13  cas8\r\n",
      "all_data_20240629_09.csvtfinal_validation.csv  cas2   cas9\r\n",
      "all_data_20240629_09.csvtrain_test.csv\t       cas3   cas_data_512_v1\r\n",
      "cas1\t\t\t\t\t       cas4\r\n"
     ]
    }
   ],
   "source": [
    "! ls /home/salaris/protein_model/data/"
   ]
  },
  {
   "cell_type": "code",
   "execution_count": null,
   "id": "495ec4d0",
   "metadata": {},
   "outputs": [],
   "source": [
    "\n"
   ]
  },
  {
   "cell_type": "code",
   "execution_count": 10,
   "id": "4c3d756c",
   "metadata": {},
   "outputs": [],
   "source": [
    "## build the training and test set:"
   ]
  },
  {
   "cell_type": "code",
   "execution_count": 11,
   "id": "c69ec310",
   "metadata": {},
   "outputs": [
    {
     "name": "stdout",
     "output_type": "stream",
     "text": [
      "/home/salaris/protein_model/data2/cas1/\n",
      "/home/salaris/protein_model/data2/cas2/\n",
      "/home/salaris/protein_model/data2/cas3/\n",
      "/home/salaris/protein_model/data2/cas4/\n",
      "/home/salaris/protein_model/data2/cas5/\n",
      "/home/salaris/protein_model/data2/cas6/\n",
      "/home/salaris/protein_model/data2/cas7/\n",
      "/home/salaris/protein_model/data2/cas8/\n",
      "/home/salaris/protein_model/data2/cas9/\n",
      "/home/salaris/protein_model/data2/cas10/\n",
      "/home/salaris/protein_model/data2/cas11/\n",
      "/home/salaris/protein_model/data2/cas12/\n",
      "/home/salaris/protein_model/data2/cas13/\n"
     ]
    }
   ],
   "source": [
    "data_list = []\n",
    "for cas in caslist:\n",
    "    \n",
    "    casfolder = f\"/home/salaris/protein_model/data2/{cas}/\"\n",
    "    print(casfolder)\n",
    "  \n",
    "    casfasta = f'{casfolder}/{cas}_sequence.fasta'\n",
    "    # read the cas fasta file and convert it into a dataframe\n",
    "    for record in SeqIO.parse(casfasta, \"fasta\"):\n",
    "        data_list.append({\"seq\": str(record.seq),\n",
    "                         \"description\": str(record.description),\n",
    "                         \"record_id\": str(record.id),\n",
    "                         \"record_name\": str(record.name),\n",
    "                         \"class\": cas})\n",
    "        "
   ]
  },
  {
   "cell_type": "code",
   "execution_count": 12,
   "id": "0abe254d",
   "metadata": {},
   "outputs": [],
   "source": [
    "all_data_df = pd.DataFrame(data_list)"
   ]
  },
  {
   "cell_type": "code",
   "execution_count": 13,
   "id": "e81a53f9",
   "metadata": {},
   "outputs": [
    {
     "name": "stdout",
     "output_type": "stream",
     "text": [
      "20240704_14\n"
     ]
    }
   ],
   "source": [
    "import datetime\n",
    "\n",
    "# Get the current date and time\n",
    "current_datetime = datetime.datetime.now()\n",
    "\n",
    "# Format the date string\n",
    "date_string = current_datetime.strftime('%Y%m%d_%H')\n",
    "\n",
    "print(date_string)\n",
    "all_data_filename = f'/home/salaris/protein_model/data/all_data_{date_string}.csv'"
   ]
  },
  {
   "cell_type": "code",
   "execution_count": 14,
   "id": "b8490cfc",
   "metadata": {},
   "outputs": [],
   "source": [
    "#remove duplicates:\n",
    "all_data_df = all_data_df.drop_duplicates(subset = 'seq', keep = 'first')\n",
    "\n",
    "\n",
    "all_data_df.to_csv(all_data_filename,sep ='\\t')"
   ]
  },
  {
   "cell_type": "code",
   "execution_count": 15,
   "id": "387f26ce",
   "metadata": {},
   "outputs": [
    {
     "data": {
      "text/plain": [
       "(48168, 5)"
      ]
     },
     "execution_count": 15,
     "metadata": {},
     "output_type": "execute_result"
    }
   ],
   "source": [
    "all_data_df.shape"
   ]
  },
  {
   "cell_type": "markdown",
   "id": "7abc698a",
   "metadata": {},
   "source": [
    "## Split the dataset into train and validation set:"
   ]
  },
  {
   "cell_type": "code",
   "execution_count": 16,
   "id": "5dcf1cc3",
   "metadata": {},
   "outputs": [],
   "source": [
    "# all_data_filename = \"/home/salaris/protein_model/data/all_data_20240629_09.csv\"\n",
    "\n",
    "# all_data_df = pd.read_csv(all_data_filename,sep = '\\t')\n"
   ]
  },
  {
   "cell_type": "code",
   "execution_count": 17,
   "id": "4be1fde3",
   "metadata": {},
   "outputs": [
    {
     "data": {
      "text/plain": [
       "(48168, 5)"
      ]
     },
     "execution_count": 17,
     "metadata": {},
     "output_type": "execute_result"
    }
   ],
   "source": [
    "all_data_df.shape"
   ]
  },
  {
   "cell_type": "code",
   "execution_count": 18,
   "id": "dea1f987",
   "metadata": {},
   "outputs": [],
   "source": [
    "import pandas as pd\n",
    "from sklearn.model_selection import train_test_split\n",
    "\n",
    "\n",
    "# Splitting the DataFrame into train and test sets\n",
    "target = all_data_df['class']\n",
    "train, validation = train_test_split(all_data_df, test_size=0.1, random_state=42,stratify=target)\n",
    "\n",
    "# train and test are now DataFrames containing the split data\n"
   ]
  },
  {
   "cell_type": "code",
   "execution_count": 19,
   "id": "36bb5652",
   "metadata": {},
   "outputs": [
    {
     "data": {
      "text/plain": [
       "((43351, 5), (4817, 5))"
      ]
     },
     "execution_count": 19,
     "metadata": {},
     "output_type": "execute_result"
    }
   ],
   "source": [
    "train.shape,validation.shape"
   ]
  },
  {
   "cell_type": "code",
   "execution_count": 20,
   "id": "c21c0a1d",
   "metadata": {},
   "outputs": [],
   "source": [
    "# Use train for trainig and testing , \n",
    "# use validation data for final validation \n",
    "\n",
    "train_filename = all_data_filename + 'train_test.csv'\n",
    "train.to_csv(train_filename, sep = '\\t')\n",
    "\n",
    "validation_filename = all_data_filename + 'tfinal_validation.csv'\n",
    "validation.to_csv(validation_filename, sep = '\\t')"
   ]
  },
  {
   "cell_type": "code",
   "execution_count": 21,
   "id": "804783f3",
   "metadata": {},
   "outputs": [
    {
     "data": {
      "text/plain": [
       "('/home/salaris/protein_model/data/all_data_20240704_14.csvtrain_test.csv',\n",
       " '/home/salaris/protein_model/data/all_data_20240704_14.csvtfinal_validation.csv')"
      ]
     },
     "execution_count": 21,
     "metadata": {},
     "output_type": "execute_result"
    }
   ],
   "source": [
    "(train_filename, validation_filename)"
   ]
  },
  {
   "cell_type": "code",
   "execution_count": 22,
   "id": "fb862a96",
   "metadata": {},
   "outputs": [
    {
     "data": {
      "text/html": [
       "<div>\n",
       "<style scoped>\n",
       "    .dataframe tbody tr th:only-of-type {\n",
       "        vertical-align: middle;\n",
       "    }\n",
       "\n",
       "    .dataframe tbody tr th {\n",
       "        vertical-align: top;\n",
       "    }\n",
       "\n",
       "    .dataframe thead th {\n",
       "        text-align: right;\n",
       "    }\n",
       "</style>\n",
       "<table border=\"1\" class=\"dataframe\">\n",
       "  <thead>\n",
       "    <tr style=\"text-align: right;\">\n",
       "      <th></th>\n",
       "      <th>seq</th>\n",
       "      <th>description</th>\n",
       "      <th>record_id</th>\n",
       "      <th>record_name</th>\n",
       "      <th>class</th>\n",
       "    </tr>\n",
       "  </thead>\n",
       "  <tbody>\n",
       "    <tr>\n",
       "      <th>42078</th>\n",
       "      <td>MNNQISFRVWGRQALFTDPVTKIGGEKFSYQVPTYEAIKGIVKSIY...</td>\n",
       "      <td>WP_085355537.1 type I-C CRISPR-associated prot...</td>\n",
       "      <td>WP_085355537.1</td>\n",
       "      <td>WP_085355537.1</td>\n",
       "      <td>cas5</td>\n",
       "    </tr>\n",
       "    <tr>\n",
       "      <th>28539</th>\n",
       "      <td>MADIEPINVSALNQYTYCPRRCGLIYLENEFSDNIHTSRGNAEHER...</td>\n",
       "      <td>WP_173051910.1 CRISPR-associated protein Cas4 ...</td>\n",
       "      <td>WP_173051910.1</td>\n",
       "      <td>WP_173051910.1</td>\n",
       "      <td>cas4</td>\n",
       "    </tr>\n",
       "    <tr>\n",
       "      <th>45742</th>\n",
       "      <td>MKIDTTLLILKTNKKVKQETSKFRGYMGREFEKYPILHNHYGEGKF...</td>\n",
       "      <td>WP_304105663.1 CRISPR-associated endonuclease ...</td>\n",
       "      <td>WP_304105663.1</td>\n",
       "      <td>WP_304105663.1</td>\n",
       "      <td>cas6</td>\n",
       "    </tr>\n",
       "    <tr>\n",
       "      <th>41446</th>\n",
       "      <td>MEKRNEVTFRLWGRRALFSDPLVRVGGEKCSYPIPTYQALKGIVES...</td>\n",
       "      <td>WP_122013344.1 type I-C CRISPR-associated prot...</td>\n",
       "      <td>WP_122013344.1</td>\n",
       "      <td>WP_122013344.1</td>\n",
       "      <td>cas5</td>\n",
       "    </tr>\n",
       "    <tr>\n",
       "      <th>10551</th>\n",
       "      <td>MKPLLNTLFVTTQESYLAKDGECVAVYQGDALKGKIPIHTLGGLVL...</td>\n",
       "      <td>WP_298994263.1 type I-C CRISPR-associated endo...</td>\n",
       "      <td>WP_298994263.1</td>\n",
       "      <td>WP_298994263.1</td>\n",
       "      <td>cas1</td>\n",
       "    </tr>\n",
       "    <tr>\n",
       "      <th>...</th>\n",
       "      <td>...</td>\n",
       "      <td>...</td>\n",
       "      <td>...</td>\n",
       "      <td>...</td>\n",
       "      <td>...</td>\n",
       "    </tr>\n",
       "    <tr>\n",
       "      <th>45190</th>\n",
       "      <td>MLGFKSYYNLIFNIKRISINKGNATTHHRAYMMDLILEGDLNLIEF...</td>\n",
       "      <td>WP_332816474.1 CRISPR-associated endoribonucle...</td>\n",
       "      <td>WP_332816474.1</td>\n",
       "      <td>WP_332816474.1</td>\n",
       "      <td>cas6</td>\n",
       "    </tr>\n",
       "    <tr>\n",
       "      <th>14036</th>\n",
       "      <td>MTTLYLTEPYSTVRKDGDTLVVQIPENKETGAEKRSVRVPLMKVEQ...</td>\n",
       "      <td>WP_343405331.1 type I-D CRISPR-associated endo...</td>\n",
       "      <td>WP_343405331.1</td>\n",
       "      <td>WP_343405331.1</td>\n",
       "      <td>cas1</td>\n",
       "    </tr>\n",
       "    <tr>\n",
       "      <th>56337</th>\n",
       "      <td>MSIKVGLDIGIASVGWAVIDSDKQVIDAGVRLFDSADATKNEVRRN...</td>\n",
       "      <td>WP_275842127.1 type II CRISPR RNA-guided endon...</td>\n",
       "      <td>WP_275842127.1</td>\n",
       "      <td>WP_275842127.1</td>\n",
       "      <td>cas9</td>\n",
       "    </tr>\n",
       "    <tr>\n",
       "      <th>57499</th>\n",
       "      <td>MRIVKPYGRSHVAGAMDVDDVPGRMLRQNDDLATSRDIVAFAHKHD...</td>\n",
       "      <td>WP_247795168.1 type VI-A CRISPR-associated RNA...</td>\n",
       "      <td>WP_247795168.1</td>\n",
       "      <td>WP_247795168.1</td>\n",
       "      <td>cas13</td>\n",
       "    </tr>\n",
       "    <tr>\n",
       "      <th>35325</th>\n",
       "      <td>MKVIRVKLHQETANYRVPASHGFRESYPLPPISTVIGMVHYLCDFH...</td>\n",
       "      <td>GAA0039325.1 type I-B CRISPR-associated protei...</td>\n",
       "      <td>GAA0039325.1</td>\n",
       "      <td>GAA0039325.1</td>\n",
       "      <td>cas5</td>\n",
       "    </tr>\n",
       "  </tbody>\n",
       "</table>\n",
       "<p>43351 rows × 5 columns</p>\n",
       "</div>"
      ],
      "text/plain": [
       "                                                     seq  \\\n",
       "42078  MNNQISFRVWGRQALFTDPVTKIGGEKFSYQVPTYEAIKGIVKSIY...   \n",
       "28539  MADIEPINVSALNQYTYCPRRCGLIYLENEFSDNIHTSRGNAEHER...   \n",
       "45742  MKIDTTLLILKTNKKVKQETSKFRGYMGREFEKYPILHNHYGEGKF...   \n",
       "41446  MEKRNEVTFRLWGRRALFSDPLVRVGGEKCSYPIPTYQALKGIVES...   \n",
       "10551  MKPLLNTLFVTTQESYLAKDGECVAVYQGDALKGKIPIHTLGGLVL...   \n",
       "...                                                  ...   \n",
       "45190  MLGFKSYYNLIFNIKRISINKGNATTHHRAYMMDLILEGDLNLIEF...   \n",
       "14036  MTTLYLTEPYSTVRKDGDTLVVQIPENKETGAEKRSVRVPLMKVEQ...   \n",
       "56337  MSIKVGLDIGIASVGWAVIDSDKQVIDAGVRLFDSADATKNEVRRN...   \n",
       "57499  MRIVKPYGRSHVAGAMDVDDVPGRMLRQNDDLATSRDIVAFAHKHD...   \n",
       "35325  MKVIRVKLHQETANYRVPASHGFRESYPLPPISTVIGMVHYLCDFH...   \n",
       "\n",
       "                                             description       record_id  \\\n",
       "42078  WP_085355537.1 type I-C CRISPR-associated prot...  WP_085355537.1   \n",
       "28539  WP_173051910.1 CRISPR-associated protein Cas4 ...  WP_173051910.1   \n",
       "45742  WP_304105663.1 CRISPR-associated endonuclease ...  WP_304105663.1   \n",
       "41446  WP_122013344.1 type I-C CRISPR-associated prot...  WP_122013344.1   \n",
       "10551  WP_298994263.1 type I-C CRISPR-associated endo...  WP_298994263.1   \n",
       "...                                                  ...             ...   \n",
       "45190  WP_332816474.1 CRISPR-associated endoribonucle...  WP_332816474.1   \n",
       "14036  WP_343405331.1 type I-D CRISPR-associated endo...  WP_343405331.1   \n",
       "56337  WP_275842127.1 type II CRISPR RNA-guided endon...  WP_275842127.1   \n",
       "57499  WP_247795168.1 type VI-A CRISPR-associated RNA...  WP_247795168.1   \n",
       "35325  GAA0039325.1 type I-B CRISPR-associated protei...    GAA0039325.1   \n",
       "\n",
       "          record_name  class  \n",
       "42078  WP_085355537.1   cas5  \n",
       "28539  WP_173051910.1   cas4  \n",
       "45742  WP_304105663.1   cas6  \n",
       "41446  WP_122013344.1   cas5  \n",
       "10551  WP_298994263.1   cas1  \n",
       "...               ...    ...  \n",
       "45190  WP_332816474.1   cas6  \n",
       "14036  WP_343405331.1   cas1  \n",
       "56337  WP_275842127.1   cas9  \n",
       "57499  WP_247795168.1  cas13  \n",
       "35325    GAA0039325.1   cas5  \n",
       "\n",
       "[43351 rows x 5 columns]"
      ]
     },
     "execution_count": 22,
     "metadata": {},
     "output_type": "execute_result"
    }
   ],
   "source": [
    "train\n"
   ]
  },
  {
   "cell_type": "code",
   "execution_count": 23,
   "id": "32c83aa2",
   "metadata": {},
   "outputs": [],
   "source": [
    "#this function will split the original fasta into train or validation fasta files that can be later read using the esms fasta2dataset function \n",
    "from Bio import SeqIO\n",
    "\n",
    "def split_fasta_by_ids(fasta_file, train_ids, test_ids, train_outfile, test_outfile):\n",
    "    \"\"\"\n",
    "    Splits a FASTA file into training and validation files based on provided lists of IDs.\n",
    "    \n",
    "    Parameters:\n",
    "    - fasta_file: Path to the input FASTA file.\n",
    "    - train_ids: List of IDs for the training set.\n",
    "    - test_ids: List of IDs for the test set.\n",
    "    - train_outfile: Path to the output FASTA file for the training set.\n",
    "    - test_outfile: Path to the output FASTA file for the validation set.\n",
    "    \"\"\"\n",
    "    # Read the fasta file\n",
    "    records = list(SeqIO.parse(fasta_file, 'fasta'))\n",
    "    \n",
    "    # Separate records based on IDs\n",
    "    train_records = [record for record in records if record.id in train_ids]\n",
    "    test_records = [record for record in records if record.id in test_ids]\n",
    "    \n",
    "    # Write the records to separate fasta files\n",
    "    SeqIO.write(train_records, train_outfile, 'fasta')\n",
    "    SeqIO.write(test_records, test_outfile, 'fasta')\n",
    "\n",
    "# # Example usage\n",
    "# train_ids = ['id1', 'id3']  # Example training IDs\n",
    "# test_ids = ['id2', 'id4']   # Example test IDs\n",
    "\n",
    "# split_fasta_by_ids('path/to/your/input.fasta', train_ids, test_ids, 'training.fasta', 'validation.fasta')\n"
   ]
  },
  {
   "cell_type": "code",
   "execution_count": 24,
   "id": "d904099d",
   "metadata": {},
   "outputs": [],
   "source": [
    "for cas in caslist:\n",
    "    casfolder = f\"/home/salaris/protein_model/data2/{cas}/\"\n",
    "    casfasta = f'{casfolder}/{cas}_sequence.fasta'\n",
    "    training_fasta_file = casfolder + cas + '_training.fasta'\n",
    "    validation_fasta_file = casfolder + cas + '_validation.fasta'\n",
    "    train_ids = train.record_id.to_list()\n",
    "    validation_ids = validation.record_id.to_list()\n",
    "    split_fasta_by_ids(casfasta, train_ids, validation_ids, training_fasta_file, validation_fasta_file)\n"
   ]
  },
  {
   "cell_type": "code",
   "execution_count": null,
   "id": "556c5bf5",
   "metadata": {},
   "outputs": [],
   "source": []
  },
  {
   "cell_type": "code",
   "execution_count": null,
   "id": "b3083d26",
   "metadata": {},
   "outputs": [],
   "source": []
  }
 ],
 "metadata": {
  "kernelspec": {
   "display_name": "Python 3 (ipykernel)",
   "language": "python",
   "name": "python3"
  },
  "language_info": {
   "codemirror_mode": {
    "name": "ipython",
    "version": 3
   },
   "file_extension": ".py",
   "mimetype": "text/x-python",
   "name": "python",
   "nbconvert_exporter": "python",
   "pygments_lexer": "ipython3",
   "version": "3.10.9"
  }
 },
 "nbformat": 4,
 "nbformat_minor": 5
}
