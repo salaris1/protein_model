{
 "cells": [
  {
   "cell_type": "code",
   "execution_count": null,
   "id": "80898e78",
   "metadata": {},
   "outputs": [],
   "source": [
    "from transformers import AutoTokenizer, EsmForSequenceClassification, A\n"
   ]
  },
  {
   "cell_type": "code",
   "execution_count": null,
   "id": "772c2644",
   "metadata": {},
   "outputs": [],
   "source": [
    "model_path = \"models/checkpoint-7000/\"\n",
    "tokenizer = AutoTokenizer.from_pretrained(model_path)\n",
    "model = EsmForSequenceClassification.from_pretrained(model_path)\n"
   ]
  },
  {
   "cell_type": "code",
   "execution_count": null,
   "id": "146e9345",
   "metadata": {},
   "outputs": [],
   "source": [
    "\n",
    "# Example inference\n",
    "inputs = tokenizer(\"Your input sequence here\", return_tensors=\"pt\")\n",
    "outputs = model(**inputs)\n",
    "logits = outputs.logits\n",
    "predictions = torch.argmax(logits, dim=-1)\n",
    "print(predictions)"
   ]
  },
  {
   "cell_type": "code",
   "execution_count": null,
   "id": "b3ab2dec",
   "metadata": {},
   "outputs": [],
   "source": []
  }
 ],
 "metadata": {
  "kernelspec": {
   "display_name": "Python 3 (ipykernel)",
   "language": "python",
   "name": "python3"
  },
  "language_info": {
   "codemirror_mode": {
    "name": "ipython",
    "version": 3
   },
   "file_extension": ".py",
   "mimetype": "text/x-python",
   "name": "python",
   "nbconvert_exporter": "python",
   "pygments_lexer": "ipython3",
   "version": "3.9.18"
  }
 },
 "nbformat": 4,
 "nbformat_minor": 5
}
