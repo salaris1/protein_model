{
 "cells": [
  {
   "cell_type": "code",
   "execution_count": 37,
   "id": "2acc8753",
   "metadata": {},
   "outputs": [],
   "source": [
    "import pathlib\n",
    "import torch\n",
    "\n",
    "from esm import FastaBatchedDataset, pretrained\n",
    "\n",
    "\n",
    "# lets do PLS\n",
    "from numpy import array\n",
    "from numpy import argmax\n",
    "from sklearn.preprocessing import LabelEncoder\n",
    "from sklearn.preprocessing import OneHotEncoder\n"
   ]
  },
  {
   "cell_type": "code",
   "execution_count": 76,
   "id": "4a3c065b",
   "metadata": {},
   "outputs": [],
   "source": [
    "import numpy as np"
   ]
  },
  {
   "cell_type": "code",
   "execution_count": 38,
   "id": "533d2c64",
   "metadata": {},
   "outputs": [],
   "source": [
    "model_name = 'esm2_t33_650M_UR50D'"
   ]
  },
  {
   "cell_type": "code",
   "execution_count": 96,
   "id": "fd9c1b79",
   "metadata": {},
   "outputs": [],
   "source": [
    "import os\n",
    "import torch\n",
    "import pandas as pd\n",
    "\n",
    "def load_pt_files_to_dataframe(folder_path,max_samples):\n",
    "    # Initialize an empty DataFrame\n",
    "    df = pd.DataFrame(columns=[\"entry_id\", \"label\", \"mean_representation\"])\n",
    "    n = 0\n",
    "    # Loop through all files in the specified folder\n",
    "    for filename in os.listdir(folder_path):\n",
    "        if filename.endswith(\".pt\"):\n",
    "            # Construct full file path\n",
    "            file_path = os.path.join(folder_path, filename)\n",
    "            # Load the PyTorch file (.pt)\n",
    "            data = torch.load(file_path)\n",
    "            # Append data to the DataFrame\n",
    "            newrow = pd.DataFrame({\n",
    "                \"entry_id\": data[\"entry_id\"],\n",
    "                \"label\": data[\"label\"],\n",
    "                \"mean_representation\": [np.array(data[\"mean_representations\"][33].tolist())]\n",
    "            })\n",
    "            df = pd.concat([df,newrow], ignore_index=True)\n",
    "            n += 1 \n",
    "        if n> max_samples:\n",
    "            break\n",
    "    print(f\"number of samples process for {cas}: {n}\")\n",
    "    return df\n",
    "\n",
    "# Example usage\n",
    "#folder_path = path\n",
    "#dataframe = load_pt_files_to_dataframe(folder_path)\n",
    "# print(dataframe)\n"
   ]
  },
  {
   "cell_type": "code",
   "execution_count": 97,
   "id": "26290818",
   "metadata": {},
   "outputs": [],
   "source": [
    "caslist = ['cas1','cas2','cas3','cas4','cas5','cas6','cas7','cas8','cas9','cas10','cas11','cas12','cas13']\n"
   ]
  },
  {
   "cell_type": "code",
   "execution_count": 116,
   "id": "9f7cff54",
   "metadata": {
    "scrolled": true
   },
   "outputs": [
    {
     "name": "stdout",
     "output_type": "stream",
     "text": [
      "/home/salaris/protein_model/data/cas1/_esm2_t33_650M_UR50D_embeddings/training /home/salaris/protein_model/data/cas1/_esm2_t33_650M_UR50D_embeddings/validation\n",
      "/home/salaris/protein_model/data/cas1/cas1_training.fasta /home/salaris/protein_model/data/cas1/cas1_validation.fasta\n",
      "number of samples process for cas1: 1001\n",
      "number of samples process for cas1: 1001\n",
      "/home/salaris/protein_model/data/cas2/_esm2_t33_650M_UR50D_embeddings/training /home/salaris/protein_model/data/cas2/_esm2_t33_650M_UR50D_embeddings/validation\n",
      "/home/salaris/protein_model/data/cas2/cas2_training.fasta /home/salaris/protein_model/data/cas2/cas2_validation.fasta\n",
      "number of samples process for cas2: 1001\n",
      "number of samples process for cas2: 500\n",
      "/home/salaris/protein_model/data/cas3/_esm2_t33_650M_UR50D_embeddings/training /home/salaris/protein_model/data/cas3/_esm2_t33_650M_UR50D_embeddings/validation\n",
      "/home/salaris/protein_model/data/cas3/cas3_training.fasta /home/salaris/protein_model/data/cas3/cas3_validation.fasta\n",
      "number of samples process for cas3: 1001\n",
      "number of samples process for cas3: 500\n",
      "/home/salaris/protein_model/data/cas4/_esm2_t33_650M_UR50D_embeddings/training /home/salaris/protein_model/data/cas4/_esm2_t33_650M_UR50D_embeddings/validation\n",
      "/home/salaris/protein_model/data/cas4/cas4_training.fasta /home/salaris/protein_model/data/cas4/cas4_validation.fasta\n",
      "number of samples process for cas4: 1001\n",
      "number of samples process for cas4: 517\n",
      "/home/salaris/protein_model/data/cas5/_esm2_t33_650M_UR50D_embeddings/training /home/salaris/protein_model/data/cas5/_esm2_t33_650M_UR50D_embeddings/validation\n",
      "/home/salaris/protein_model/data/cas5/cas5_training.fasta /home/salaris/protein_model/data/cas5/cas5_validation.fasta\n",
      "number of samples process for cas5: 1001\n",
      "number of samples process for cas5: 1001\n",
      "/home/salaris/protein_model/data/cas6/_esm2_t33_650M_UR50D_embeddings/training /home/salaris/protein_model/data/cas6/_esm2_t33_650M_UR50D_embeddings/validation\n",
      "/home/salaris/protein_model/data/cas6/cas6_training.fasta /home/salaris/protein_model/data/cas6/cas6_validation.fasta\n",
      "number of samples process for cas6: 1001\n",
      "number of samples process for cas6: 502\n",
      "/home/salaris/protein_model/data/cas7/_esm2_t33_650M_UR50D_embeddings/training /home/salaris/protein_model/data/cas7/_esm2_t33_650M_UR50D_embeddings/validation\n",
      "/home/salaris/protein_model/data/cas7/cas7_training.fasta /home/salaris/protein_model/data/cas7/cas7_validation.fasta\n",
      "number of samples process for cas7: 1001\n",
      "number of samples process for cas7: 324\n",
      "/home/salaris/protein_model/data/cas8/_esm2_t33_650M_UR50D_embeddings/training /home/salaris/protein_model/data/cas8/_esm2_t33_650M_UR50D_embeddings/validation\n",
      "/home/salaris/protein_model/data/cas8/cas8_training.fasta /home/salaris/protein_model/data/cas8/cas8_validation.fasta\n",
      "number of samples process for cas8: 239\n",
      "number of samples process for cas8: 26\n",
      "/home/salaris/protein_model/data/cas9/_esm2_t33_650M_UR50D_embeddings/training /home/salaris/protein_model/data/cas9/_esm2_t33_650M_UR50D_embeddings/validation\n",
      "/home/salaris/protein_model/data/cas9/cas9_training.fasta /home/salaris/protein_model/data/cas9/cas9_validation.fasta\n",
      "number of samples process for cas9: 1001\n",
      "number of samples process for cas9: 501\n",
      "/home/salaris/protein_model/data/cas10/_esm2_t33_650M_UR50D_embeddings/training /home/salaris/protein_model/data/cas10/_esm2_t33_650M_UR50D_embeddings/validation\n",
      "/home/salaris/protein_model/data/cas10/cas10_training.fasta /home/salaris/protein_model/data/cas10/cas10_validation.fasta\n",
      "number of samples process for cas10: 99\n",
      "number of samples process for cas10: 11\n",
      "/home/salaris/protein_model/data/cas11/_esm2_t33_650M_UR50D_embeddings/training /home/salaris/protein_model/data/cas11/_esm2_t33_650M_UR50D_embeddings/validation\n",
      "/home/salaris/protein_model/data/cas11/cas11_training.fasta /home/salaris/protein_model/data/cas11/cas11_validation.fasta\n",
      "number of samples process for cas11: 77\n",
      "number of samples process for cas11: 9\n",
      "/home/salaris/protein_model/data/cas12/_esm2_t33_650M_UR50D_embeddings/training /home/salaris/protein_model/data/cas12/_esm2_t33_650M_UR50D_embeddings/validation\n",
      "/home/salaris/protein_model/data/cas12/cas12_training.fasta /home/salaris/protein_model/data/cas12/cas12_validation.fasta\n",
      "number of samples process for cas12: 134\n",
      "number of samples process for cas12: 15\n",
      "/home/salaris/protein_model/data/cas13/_esm2_t33_650M_UR50D_embeddings/training /home/salaris/protein_model/data/cas13/_esm2_t33_650M_UR50D_embeddings/validation\n",
      "/home/salaris/protein_model/data/cas13/cas13_training.fasta /home/salaris/protein_model/data/cas13/cas13_validation.fasta\n",
      "number of samples process for cas13: 698\n",
      "number of samples process for cas13: 77\n"
     ]
    }
   ],
   "source": [
    "training_list = []\n",
    "validation_list =[]\n",
    "for cas in caslist: \n",
    "    \n",
    "    casfolder = f\"/home/salaris/protein_model/data/{cas}/\"\n",
    "    \n",
    "    training_fasta_file = pathlib.Path(casfolder + cas + '_training.fasta')\n",
    "    validation_fasta_file = pathlib.Path(casfolder + cas + '_validation.fasta')\n",
    "    \n",
    "    training_embedding_folder = pathlib.Path(casfolder  + \"_\" +model_name + \"_\" + 'embeddings/' +  'training/')\n",
    "    validation_embedding_folder = pathlib.Path(casfolder  + \"_\" +model_name + \"_\" + 'embeddings/' +   'validation/')\n",
    "    print(training_embedding_folder, validation_embedding_folder)\n",
    "    print(training_fasta_file, validation_fasta_file)\n",
    "   \n",
    "\n",
    "    _training_df = load_pt_files_to_dataframe(training_embedding_folder,max_samples=1000)\n",
    "    _validation_df = load_pt_files_to_dataframe(validation_embedding_folder,max_samples=1000)\n",
    "    training_list.append(_training_df)\n",
    "    validation_list.append(_validation_df)\n",
    "    training_df = pd.concat(training_list, ignore_index = True )\n",
    "    validation_df = pd.concat(validation_list, ignore_index = True )"
   ]
  },
  {
   "cell_type": "markdown",
   "id": "f89242cd",
   "metadata": {},
   "source": [
    "# build the model:"
   ]
  },
  {
   "cell_type": "code",
   "execution_count": 117,
   "id": "5d690116",
   "metadata": {},
   "outputs": [
    {
     "name": "stdout",
     "output_type": "stream",
     "text": [
      "Accuracy: 0.9837925445705025\n",
      "balanced accuracy:0.97849752899133\n",
      "f1 score:0.9838121116051421\n",
      "Confusion Matrix:\n",
      "[[191   0   0   0   0   1   0   0   0   0   2   0   0]\n",
      " [  1  17   0   0   0   0   0   0   0   0   1   0   0]\n",
      " [  0   0  16   0   0   0   0   0   0   0   0   0   0]\n",
      " [  0   0   0  26   0   0   0   0   0   0   1   0   0]\n",
      " [  0   0   0   0 134   0   0   1   0   0   0   0   0]\n",
      " [  0   0   0   0   0 197   0   0   0   0   2   0   0]\n",
      " [  0   0   0   0   0   0 198   4   0   0   0   0   0]\n",
      " [  2   0   0   0   0   1   2 186   0   0   0   0   0]\n",
      " [  0   0   0   0   0   2   0   0 206   0   0   0   0]\n",
      " [  0   0   0   0   1   2   0   0   0 200   0   0   0]\n",
      " [  0   0   0   0   1   2   0   0   0   1 204   0   0]\n",
      " [  0   0   0   0   0   0   0   0   0   0   0  45   0]\n",
      " [  0   0   0   0   3   0   0   0   0   0   0   0 201]]\n"
     ]
    }
   ],
   "source": [
    "import numpy as np\n",
    "import pandas as pd\n",
    "from sklearn.ensemble import GradientBoostingClassifier,RandomForestClassifier\n",
    "from sklearn.model_selection import train_test_split\n",
    "from sklearn.metrics import accuracy_score, confusion_matrix,balanced_accuracy_score,f1_score\n",
    "\n",
    "from sklearn.preprocessing import LabelEncoder\n",
    "\n",
    "\n",
    "# Example data loading\n",
    "# Assuming 'df' is your DataFrame containing the features and the label\n",
    "# df = pd.read_csv('path_to_your_data.csv')  # Load your data here\n",
    "\n",
    "# Splitting the data into features and target\n",
    "# Splitting the data into features and target\n",
    "X = np.array(training_df['mean_representation'].tolist())\n",
    "y = training_df['label']\n",
    "\n",
    "# Encoding categorical target variable\n",
    "label_encoder = LabelEncoder()\n",
    "y_encoded = label_encoder.fit_transform(y)\n",
    "\n",
    "# Splitting the dataset into training and testing sets\n",
    "X_train, X_test, y_train, y_test = train_test_split(X, y_encoded, test_size=0.2, random_state=42)\n",
    "\n",
    "# Create a Gradient Boosting Classifier\n",
    "# gbc = GradientBoostingClassifier(n_estimators=100, learning_rate=0.1, max_depth=3, random_state=42)\n",
    "# modelx = GradientBoostingClassifier()\n",
    "modelx = RandomForestClassifier()\n",
    "\n",
    "# Train the model\n",
    "modelx.fit(X_train, y_train)\n",
    "\n",
    "# Predict on the testing set\n",
    "y_pred = modelx.predict(X_test)\n",
    "# Evaluate the model\n",
    "accuracy = accuracy_score(y_test, y_pred)\n",
    "conf_mat = confusion_matrix(y_test, y_pred)\n",
    "bacc = balanced_accuracy_score(y_test,y_pred)\n",
    "f1 = f1_score(y_test,y_pred,average='weighted')\n",
    "print(f'Accuracy: {accuracy}')\n",
    "print(f'balanced accuracy:{bacc}' )\n",
    "print(f'f1 score:{f1}' )\n",
    "\n",
    "print('Confusion Matrix:')\n",
    "print(conf_mat)\n"
   ]
  },
  {
   "cell_type": "code",
   "execution_count": null,
   "id": "cb152b9a",
   "metadata": {},
   "outputs": [],
   "source": []
  }
 ],
 "metadata": {
  "kernelspec": {
   "display_name": "Python 3 (ipykernel)",
   "language": "python",
   "name": "python3"
  },
  "language_info": {
   "codemirror_mode": {
    "name": "ipython",
    "version": 3
   },
   "file_extension": ".py",
   "mimetype": "text/x-python",
   "name": "python",
   "nbconvert_exporter": "python",
   "pygments_lexer": "ipython3",
   "version": "3.10.9"
  }
 },
 "nbformat": 4,
 "nbformat_minor": 5
}
