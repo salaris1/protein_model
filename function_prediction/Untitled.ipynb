{
 "cells": [
  {
   "cell_type": "code",
   "execution_count": null,
   "id": "0fe2f2f9-ed06-43aa-9a08-512eeaf9cb9c",
   "metadata": {},
   "outputs": [],
   "source": [
    "from sentence_transformers import SentenceTransformer\n",
    "from matplotlib import pyplot as plt\n",
    "import pandas as pd\n",
    "import sys\n",
    "import os \n"
   ]
  },
  {
   "cell_type": "code",
   "execution_count": null,
   "id": "6382532f-9472-4a1e-800a-622a9284026d",
   "metadata": {},
   "outputs": [],
   "source": [
    "sys.path.insert(0,'/home/salaris/protein_model/')\n",
    "from functions import url, load_model, predict_sequence"
   ]
  },
  {
   "cell_type": "code",
   "execution_count": null,
   "id": "4c430919-1d96-4256-8482-fc6e69ce0e7a",
   "metadata": {},
   "outputs": [],
   "source": [
    "base_model = \"/home/salaris/protein_model/function_prediction/protein_model/model/esm2_t6_8M_UR50D_base_model_accelerated/\"\n",
    "# finetuned_model = \"/home/salaris/protein_model/function_prediction/protein_model/model/esm_finetuned_accelerated/deep-totem-10/\"\n",
    "# finetuned_model = \"/home/salaris/protein_model/function_prediction/protein_model/model/esm_finetuned_accelerated/volcanic-cherry-11/\"\n",
    "# finetuned_model = \"/home/salaris/protein_model/function_prediction/protein_model/model/esm_finetuned_accelerated/snowy-snowflake-13/\"\n",
    "finetuned_model = \"/home/salaris/protein_model/function_prediction/protein_model/model/esm_finetuned_accelerated/sleek-tree-17/\""
   ]
  },
  {
   "cell_type": "code",
   "execution_count": null,
   "id": "d41e4546-ff7b-4635-830b-22367d60ffd0",
   "metadata": {},
   "outputs": [],
   "source": [
    "model,tokenizer = load_model(base_model,peft_model_path=finetuned_model,only_raw_model=False)"
   ]
  },
  {
   "cell_type": "code",
   "execution_count": null,
   "id": "cd3ccbfb-cba1-485f-a9eb-55b492e2a4a8",
   "metadata": {},
   "outputs": [],
   "source": [
    "import torch\n",
    "def predict_sequence(model, tokenizer, sequence, max_length=512, to_cuda = True):\n",
    "    \"\"\"\n",
    "    Predict the class of the given sequence using the fine-tuned model.\n",
    "    \"\"\"\n",
    "    # Preprocess the input sequence\n",
    "    inputs = tokenizer(sequence, padding=True, truncation=True, max_length=max_length, return_tensors=\"pt\")\n",
    "    inputs = {key: val.to(model.device) for key, val in inputs.items()}\n",
    "    if to_cuda:\n",
    "        inputs.cuda()\n",
    "    # Make prediction\n",
    "    with torch.no_grad():\n",
    "        outputs = model(**inputs)\n",
    "        logits = outputs.logits\n",
    "        predictions = torch.argmax(logits, dim=-1)\n",
    "        \n",
    "    return logits, predictions.cpu().numpy()"
   ]
  },
  {
   "cell_type": "code",
   "execution_count": null,
   "id": "b18fd763-a4b4-405b-b8cc-aaee7d91a528",
   "metadata": {},
   "outputs": [],
   "source": [
    "sequence = [\"MKMKIEFSTGCIPISSLFMSIIKEKEKNNKKTKNFTFSVYIKKYSIEGDNFIIEDKVILNISTPDLELGFHIYNGLMTS\"]\n",
    "xx,yy = predict_sequence(model,tokenizer,sequence,max_length=1024,to_cuda=False)"
   ]
  },
  {
   "cell_type": "code",
   "execution_count": null,
   "id": "846a96e2-fe04-4d2c-a4f2-8db8b2b2242b",
   "metadata": {},
   "outputs": [],
   "source": [
    "xx.shape\n",
    "xx.shape"
   ]
  },
  {
   "cell_type": "code",
   "execution_count": null,
   "id": "bbe27099-d2b1-4f9d-a85f-3af49dfca802",
   "metadata": {},
   "outputs": [],
   "source": [
    "output_file = '/home/salaris/protein_model/function_prediction/data/prot_func_validation_with_embedding.h5'\n",
    "\n",
    "xx = pd.read_hdf(output_file,start = 0 , stop = 5000)"
   ]
  },
  {
   "cell_type": "code",
   "execution_count": null,
   "id": "beaa55aa-cd18-4c6d-9400-abf8091223df",
   "metadata": {},
   "outputs": [],
   "source": []
  },
  {
   "cell_type": "code",
   "execution_count": null,
   "id": "00a19c92-5f29-4f57-9826-959449e8a649",
   "metadata": {},
   "outputs": [],
   "source": [
    "import numpy as np \n",
    "import seaborn as sb\n",
    "from sklearn.metrics import r2_score\n",
    "_tmp = xx.sample(100)\n",
    "sequence = _tmp.sequence.to_list()\n",
    "em_str = ['e_' + str(n) for n in range(384)]\n",
    "embeddings =_tmp[em_str].values.tolist()\n",
    "\n",
    "# preds,_  = predict_sequence(model,tokenizer,sequence,max_length=1024,to_cuda=False)\n",
    "\n",
    "from matplotlib import pyplot as plt\n",
    "x = np.array(embeddings).reshape(-1,1)\n",
    "y =  np.array(preds).reshape(-1,1)\n",
    "plt.scatter(x,y, s = 1)\n",
    "# sb.regplot(x = x , y = y )\n",
    "r2 = r2_score(y_true=  x,y_pred= y)\n",
    "plt.title(r2)"
   ]
  },
  {
   "cell_type": "code",
   "execution_count": null,
   "id": "c38c83bf-921f-4fad-8704-6e29082f44dd",
   "metadata": {},
   "outputs": [],
   "source": [
    "x.shape,y.shape,r2,np.sqrt(r2)"
   ]
  },
  {
   "cell_type": "code",
   "execution_count": null,
   "id": "43b78fe0-8d8b-4ed3-be07-5bfb4fa494c2",
   "metadata": {},
   "outputs": [],
   "source": [
    "np.array(embeddings).shape"
   ]
  },
  {
   "cell_type": "code",
   "execution_count": null,
   "id": "4269c6c1-347e-4c5b-8fce-fce204b7bbb0",
   "metadata": {},
   "outputs": [],
   "source": [
    "x.shape"
   ]
  },
  {
   "cell_type": "code",
   "execution_count": null,
   "id": "51124cd8-76e6-47b3-95fc-b66d01f4f69b",
   "metadata": {},
   "outputs": [],
   "source": [
    "y.shape"
   ]
  },
  {
   "cell_type": "code",
   "execution_count": null,
   "id": "7bdbeee7-6486-48d3-86eb-d190ae62c95a",
   "metadata": {},
   "outputs": [],
   "source": []
  },
  {
   "cell_type": "code",
   "execution_count": null,
   "id": "f4481878-1f1c-435a-9d82-a9bcb96e2292",
   "metadata": {},
   "outputs": [],
   "source": [
    "xx"
   ]
  }
 ],
 "metadata": {
  "kernelspec": {
   "display_name": "Python 3 (ipykernel)",
   "language": "python",
   "name": "python3"
  },
  "language_info": {
   "codemirror_mode": {
    "name": "ipython",
    "version": 3
   },
   "file_extension": ".py",
   "mimetype": "text/x-python",
   "name": "python",
   "nbconvert_exporter": "python",
   "pygments_lexer": "ipython3",
   "version": "3.9.18"
  }
 },
 "nbformat": 4,
 "nbformat_minor": 5
}
