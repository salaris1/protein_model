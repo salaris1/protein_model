{
 "cells": [
  {
   "cell_type": "code",
   "execution_count": null,
   "id": "d9d7a5f3-345d-4a69-b52f-323626ee37f7",
   "metadata": {},
   "outputs": [],
   "source": [
    "from sentence_transformers import SentenceTransformer\n",
    "from matplotlib import pyplot as plt\n",
    "import pandas as pd\n",
    "import sys\n",
    "import os \n"
   ]
  },
  {
   "cell_type": "code",
   "execution_count": null,
   "id": "1976ae2a-665a-4b86-8794-40b5eaa4e684",
   "metadata": {},
   "outputs": [],
   "source": [
    "sys.path.insert(0,'/home/salaris/protein_model/')\n",
    "from functions import load_model,predict_sequence\n"
   ]
  },
  {
   "cell_type": "code",
   "execution_count": null,
   "id": "9f36bd33-2ef8-4176-ae4d-f81e0772dac1",
   "metadata": {},
   "outputs": [],
   "source": [
    "base_model = \"/home/salaris/protein_model/function_prediction/protein_model/model/esm2_t6_8M_UR50D_base_model_accelerated/\"\n",
    "# finetuned_model = \"/home/salaris/protein_model/function_prediction/protein_model/model/esm_finetuned_accelerated/deep-totem-10/\"\n",
    "# finetuned_model = \"/home/salaris/protein_model/function_prediction/protein_model/model/esm_finetuned_accelerated/volcanic-cherry-11/\"\n",
    "# finetuned_model = \"/home/salaris/protein_model/function_prediction/protein_model/model/esm_finetuned_accelerated/snowy-snowflake-13/\"\n",
    "# finetuned_model = \"/home/salaris/protein_model/function_prediction/protein_model/model/esm_finetuned_accelerated/sleek-tree-17/\"\n",
    "finetuned_model = \"/home/salaris/protein_model/function_prediction/protein_model/model/esm_finetuned_accelerated/still-tree-30/\""
   ]
  },
  {
   "cell_type": "code",
   "execution_count": null,
   "id": "71cf46de-2f62-47a3-9905-b620c4d2c3dc",
   "metadata": {},
   "outputs": [],
   "source": [
    "from functions import EmbeddingEncoder\n",
    "\n",
    "model,tokenizer = load_model(base_model,peft_model_path=finetuned_model,only_raw_model=False)\n",
    "\n",
    "modelname = 'tavakolih/all-MiniLM-L6-v2-pubmed-full'\n",
    "# model = SentenceTransformer(modelname)\n"
   ]
  },
  {
   "cell_type": "code",
   "execution_count": null,
   "id": "27e5225c-cf18-4cb2-bad8-53a0c5e8aeb6",
   "metadata": {
    "scrolled": true
   },
   "outputs": [],
   "source": [
    "st_model = EmbeddingEncoder(modelname)\n",
    "emb =st_model.encode('hi')"
   ]
  },
  {
   "cell_type": "code",
   "execution_count": null,
   "id": "2690d31f-a741-43be-b371-3cf7e282430a",
   "metadata": {},
   "outputs": [],
   "source": []
  },
  {
   "cell_type": "code",
   "execution_count": null,
   "id": "bafda3aa-16ca-4e4b-acb0-22b56329f8f2",
   "metadata": {},
   "outputs": [],
   "source": [
    "sequence = [\"MKMKIEFSTGCIPISSLFMSIIKEKEKNNKKTKNFTFSVYIKKYSIEGDNFIIEDKVILNISTPDLELGFHIYNGLMTS\"]\n",
    "xx,yy = predict_sequence(model,tokenizer,sequence,max_length=1024,to_cuda=False)"
   ]
  },
  {
   "cell_type": "code",
   "execution_count": null,
   "id": "c31f1e7a-0c14-46b5-ba5d-33216280bd80",
   "metadata": {},
   "outputs": [],
   "source": [
    "\n"
   ]
  },
  {
   "cell_type": "code",
   "execution_count": null,
   "id": "bdb213d4-8e85-4ead-818e-850e3245a94e",
   "metadata": {},
   "outputs": [],
   "source": [
    "output_file = '/home/salaris/protein_model/function_prediction/data/prot_func.tsv'\n",
    "\n",
    "all_data = pd.read_csv(output_file,sep = \"\\t\", nrows = 10000)\n"
   ]
  },
  {
   "cell_type": "code",
   "execution_count": null,
   "id": "05344372-e4d7-4c84-b8cc-b169f1be749d",
   "metadata": {
    "scrolled": true
   },
   "outputs": [],
   "source": [
    "#lets pick something:\n",
    "candidate = all_data.iloc[0]\n",
    "len(candidate.sequence)\n"
   ]
  },
  {
   "cell_type": "code",
   "execution_count": null,
   "id": "f724f976-98db-4e9f-80c4-59548c9767f3",
   "metadata": {},
   "outputs": [],
   "source": [
    "candidate"
   ]
  },
  {
   "cell_type": "code",
   "execution_count": null,
   "id": "2e32be9c-031a-4032-a9ae-d2a444d6d6d8",
   "metadata": {
    "scrolled": true
   },
   "outputs": [],
   "source": [
    "candidate_embedding = st_model.encode(candidate.go)\n",
    "# print(candidate_embedding.shape)\n",
    "candidate_embedding"
   ]
  },
  {
   "cell_type": "code",
   "execution_count": null,
   "id": "ef970dcd-3225-4340-ba02-c5c5fb62d81e",
   "metadata": {},
   "outputs": [],
   "source": []
  },
  {
   "cell_type": "code",
   "execution_count": null,
   "id": "b97b22b3-28b0-4688-81a7-ebae8df9ed2e",
   "metadata": {},
   "outputs": [],
   "source": [
    "# ! pip install deap\n",
    "# !pip install Levenshtein\n",
    "xx = predict_sequence(model, tokenizer, sequence,max_length=512,to_cuda=False)\n"
   ]
  },
  {
   "cell_type": "code",
   "execution_count": null,
   "id": "abeddde7-3219-4da9-aa40-69f4d9cfdd5a",
   "metadata": {},
   "outputs": [],
   "source": []
  },
  {
   "cell_type": "code",
   "execution_count": null,
   "id": "75e6026b-1293-4f7b-b699-5d9c5679e278",
   "metadata": {},
   "outputs": [],
   "source": [
    "from deap import base, creator, tools, algorithms\n",
    "import random\n",
    "import numpy as np\n",
    "from Levenshtein import distance\n",
    "from sklearn.metrics import r2_score\n",
    "sequence_length = 305\n",
    "# Your specific starting sequence and positions to mutate\n",
    "\n",
    "amino_acids = 'ACDEFGHIKLMNPQRSTVWY'\n",
    "\n",
    "# Generate a random sequence of 100 amino acids\n",
    "# starting_sequence = ''.join(random.choice(amino_acids) for _ in range(sequence_length))\n",
    "starting_sequence = candidate.sequence\n",
    "print('starting sequence length:', len(starting_sequence))\n",
    "\n",
    "positions_to_mutate = range(0,305,10)  # example positions\n",
    "# positions_to_mutate = range(sequence_length)\n",
    "# mutate some random positions \n",
    "ss = list(starting_sequence)\n",
    "for position in positions_to_mutate:\n",
    "    ss[position] = random.choice(amino_acids)\n",
    "starting_sequence = \"\".join(ss)\n",
    "print(starting_sequence)\n",
    "\n",
    "\n",
    "\n",
    "# Define the fitness function\n",
    "def fitness_function(sequence,model,tokenizer,candidate_embedding):\n",
    "    # print(sequence)\n",
    "    xx,yy = predict_sequence(model,tokenizer, \"\".join(sequence), max_length = 512, to_cuda= False)\n",
    "    # print(xx.shape, candidate_embedding.shape)\n",
    "    return(r2_score(xx.cpu().numpy().reshape(-1),candidate_embedding),)\n",
    "# Define the sequence creator\n",
    "creator.create(\"FitnessMax\", base.Fitness, weights=(1.0,))\n",
    "creator.create(\"Individual\", list, fitness=creator.FitnessMax)\n",
    "\n",
    "\n",
    "\n",
    "# Initialization of the population\n",
    "toolbox = base.Toolbox()\n",
    "\n",
    "# Define a generator function for new individuals\n",
    "def generate_individual():\n",
    "    return creator.Individual(list(starting_sequence))\n",
    "\n",
    "toolbox.register(\"individual\", generate_individual)\n",
    "toolbox.register(\"population\", tools.initRepeat, list, toolbox.individual)\n",
    "\n",
    "# Custom mutation function\n",
    "def custom_mutate(individual):\n",
    "    for position in positions_to_mutate:\n",
    "        # Randomly select a new amino acid for the position\n",
    "        individual[position] = random.choice('ACDEFGHIKLMNPQRSTVWY')\n",
    "    return individual,\n",
    "\n",
    "# Operators\n",
    "toolbox.register(\"evaluate\", fitness_function,**{'model':model, 'tokenizer':tokenizer, 'candidate_embedding': candidate_embedding})\n",
    "toolbox.register(\"mate\", tools.cxUniform, indpb=0.1)  # Uniform crossover\n",
    "toolbox.register(\"mutate\", custom_mutate)\n",
    "toolbox.register(\"select\", tools.selTournament, tournsize=3)\n",
    "\n",
    "# Genetic Algorithm\n",
    "def main():\n",
    "    pop0 = toolbox.population(n=50)  # n is the number of individuals\n",
    "    hof = tools.HallOfFame(1, similar=lambda x, y: x == y)\n",
    "    stats = tools.Statistics(lambda ind: ind.fitness.values)\n",
    "    stats.register(\"avg\", np.mean)\n",
    "    stats.register(\"min\", np.min)\n",
    "    stats.register(\"max\", np.max)\n",
    "\n",
    "    pop, log = algorithms.eaSimple(pop0, toolbox, cxpb=0.5, mutpb=0.2, ngen=380, stats=stats, halloffame=hof, verbose=True)  # ngen is the number of generations\n",
    "\n",
    "    return pop, log, hof,pop0,stats\n",
    "\n",
    "# if __name__ == \"__main__\":\n",
    "#     main()\n"
   ]
  },
  {
   "cell_type": "code",
   "execution_count": null,
   "id": "f839b105-8218-4439-93a7-cb3d33cd1dc8",
   "metadata": {
    "scrolled": true
   },
   "outputs": [],
   "source": [
    "pop , log , hof,pop0,stats = main()"
   ]
  },
  {
   "cell_type": "code",
   "execution_count": null,
   "id": "8ab3545a-fbea-4b5e-a083-2a8b85f77f7f",
   "metadata": {},
   "outputs": [],
   "source": [
    "np.array(pop).shape"
   ]
  },
  {
   "cell_type": "code",
   "execution_count": null,
   "id": "800d361e-89b6-4fd4-829a-0a8ea96f250e",
   "metadata": {},
   "outputs": [],
   "source": [
    "a = starting_sequence\n",
    "a"
   ]
  },
  {
   "cell_type": "code",
   "execution_count": null,
   "id": "5395a133-439d-4507-8119-72d04ddfecba",
   "metadata": {},
   "outputs": [],
   "source": [
    "best =\"\".join(hof.items[0])"
   ]
  },
  {
   "cell_type": "code",
   "execution_count": null,
   "id": "9fd15927-3399-4ab9-8b7b-106a3c7200ad",
   "metadata": {},
   "outputs": [],
   "source": [
    "ss =  candidate.sequence\n",
    "ss"
   ]
  },
  {
   "cell_type": "code",
   "execution_count": null,
   "id": "c46ae9cc-7c76-4fce-9d1f-edf9c1c5a8e5",
   "metadata": {},
   "outputs": [],
   "source": [
    "distance(ss,best)"
   ]
  },
  {
   "cell_type": "code",
   "execution_count": null,
   "id": "5f1760c3-0f86-4769-9bc5-0866acc87ed5",
   "metadata": {},
   "outputs": [],
   "source": [
    "distance(ss,starting_sequence)"
   ]
  },
  {
   "cell_type": "code",
   "execution_count": null,
   "id": "a3a2a23c-07e2-426e-86db-1a132f159c8c",
   "metadata": {},
   "outputs": [],
   "source": [
    "pop0 = toolbox.population(n=300)\n",
    "a = \"\".join(pop0[0])\n",
    "a"
   ]
  },
  {
   "cell_type": "code",
   "execution_count": null,
   "id": "da4322d7-fec7-46a7-8063-ceadf837b4aa",
   "metadata": {},
   "outputs": [],
   "source": [
    "max_r2 = r2_sc"
   ]
  },
  {
   "cell_type": "code",
   "execution_count": null,
   "id": "d918d149-6ae9-446f-baae-bf8de78c039d",
   "metadata": {},
   "outputs": [],
   "source": [
    "star"
   ]
  }
 ],
 "metadata": {
  "kernelspec": {
   "display_name": "Python 3 (ipykernel)",
   "language": "python",
   "name": "python3"
  },
  "language_info": {
   "codemirror_mode": {
    "name": "ipython",
    "version": 3
   },
   "file_extension": ".py",
   "mimetype": "text/x-python",
   "name": "python",
   "nbconvert_exporter": "python",
   "pygments_lexer": "ipython3",
   "version": "3.9.18"
  }
 },
 "nbformat": 4,
 "nbformat_minor": 5
}
