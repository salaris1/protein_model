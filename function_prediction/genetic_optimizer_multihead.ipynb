{
 "cells": [
  {
   "cell_type": "code",
   "execution_count": 34,
   "id": "d9d7a5f3-345d-4a69-b52f-323626ee37f7",
   "metadata": {},
   "outputs": [],
   "source": [
    "from sentence_transformers import SentenceTransformer\n",
    "from matplotlib import pyplot as plt\n",
    "import pandas as pd\n",
    "import sys\n",
    "import os \n",
    "import torch.nn.functional as F\n",
    "from transformers import AutoTokenizer, TrainingArguments, EsmForMaskedLM, Trainer\n",
    "from pathlib import Path\n",
    "import torch.nn.functional as F\n",
    "import torch.nn as nn\n",
    "\n",
    "from deap import base, creator, tools, algorithms\n",
    "import random\n",
    "import numpy as np\n",
    "from Levenshtein import distance\n",
    "from sklearn.metrics import r2_score"
   ]
  },
  {
   "cell_type": "code",
   "execution_count": 3,
   "id": "a6c72e4d-7de0-4604-b587-2c07f2f5d740",
   "metadata": {},
   "outputs": [],
   "source": [
    "class EsmWithRegression(EsmForMaskedLM):\n",
    "    def __init__(self, config):\n",
    "        super().__init__(config)\n",
    "        self.regression_head = nn.Linear(config.hidden_size, EMB_FEATURES)\n",
    "        self.log_sigma_mlm = nn.Parameter(torch.tensor(0.0))\n",
    "        self.log_sigma_regression = nn.Parameter(torch.tensor(0.0))\n",
    "\n",
    "    def forward(self, input_ids=None, attention_mask=None, labels=None, regression_labels=None, **kwargs):\n",
    "        outputs = super().forward(input_ids=input_ids, attention_mask=attention_mask, labels=labels, **kwargs)\n",
    "        last_hidden_state = outputs.hidden_states[-1]\n",
    "        # mean_pooled = (last_hidden_state * attention_mask.unsqueeze(-1)).sum(dim=1) / attention_mask.sum(dim=1, keepdim=True)\n",
    "        mean_pooled = last_hidden_state[:, 0, :]\n",
    "        regression_logits = self.regression_head(mean_pooled)\n",
    "\n",
    "      \n",
    "        return {\n",
    "        \n",
    "            \"logits\": outputs.logits,\n",
    "            \"regression_logits\": regression_logits,\n",
    "            \"regression_labels\": regression_labels\n",
    "        }\n",
    "\n",
    "\n",
    "# model = EsmWithRegression.from_pretrained(modelname, output_hidden_states=True)\n",
    "\n",
    "\n",
    "def load_model(base_model_path, peft_model_path,only_raw_model = False):\n",
    "    \"\"\"\n",
    "    Load the fine-tuned model and tokenizer from the given local path.\n",
    "    \"\"\"\n",
    "    base_path = Path(base_model_path)\n",
    "    model_path = Path(peft_model_path)\n",
    "    tokenizer = AutoTokenizer.from_pretrained(model_path, local_files_only=True)\n",
    "    if not only_raw_model:\n",
    "       \n",
    "        #method 2\n",
    "        model = EsmWithRegression.from_pretrained(base_model_path, local_files_only=True)\n",
    "        model.load_adapter(peft_model_path)\n",
    "        # print('loading the finetuned model')\n",
    "    else:\n",
    "        model = EsmWithRegression.from_pretrained(base_model_path, local_files_only=True)\n",
    "        # model = EsmForSequenceClassification.from_pretrained(\"facebook/esm2_t6_8M_UR50D\")\n",
    "        # print('loading the raw model')\n",
    "        \n",
    "    model.eval()  # Set the model to evaluation mode\n",
    "    return model, tokenizer\n",
    "\n",
    "def predict_sequence(model, tokenizer, sequence, max_length=512, to_cuda = True):\n",
    "    \"\"\"\n",
    "    Predict the class of the given sequence using the fine-tuned model.\n",
    "    \"\"\"\n",
    "    # Preprocess the input sequence\n",
    "    inputs = tokenizer(sequence, padding=True, truncation=True, max_length=max_length, return_tensors=\"pt\")\n",
    "    inputs = {key: val.to(model.device) for key, val in inputs.items()}\n",
    "    if to_cuda:\n",
    "        inputs.cuda()\n",
    "    # Make prediction\n",
    "    with torch.no_grad():\n",
    "        outputs = model(**inputs)\n",
    "       \n",
    "    return outputs\n",
    "\n",
    "\n",
    "\n"
   ]
  },
  {
   "cell_type": "code",
   "execution_count": 4,
   "id": "1976ae2a-665a-4b86-8794-40b5eaa4e684",
   "metadata": {},
   "outputs": [],
   "source": [
    "sys.path.insert(0,'/home/salaris/protein_model/')\n"
   ]
  },
  {
   "cell_type": "code",
   "execution_count": 5,
   "id": "9f36bd33-2ef8-4176-ae4d-f81e0772dac1",
   "metadata": {},
   "outputs": [],
   "source": [
    "base_model = \"/home/salaris/protein_model/function_prediction/protein_model/model/esm2_t6_8M_UR50D_base_model_accelerated\"\n",
    "# finetuned_model = \"/home/salaris/protein_model/function_prediction/protein_model/model/esm_finetuned_accelerated/deep-totem-10/\"\n",
    "# finetuned_model = \"/home/salaris/protein_model/function_prediction/protein_model/model/esm_finetuned_accelerated/volcanic-cherry-11/\"\n",
    "# finetuned_model = \"/home/salaris/protein_model/function_prediction/protein_model/model/esm_finetuned_accelerated/snowy-snowflake-13/\"\n",
    "# finetuned_model = \"/home/salaris/protein_model/function_prediction/protein_model/model/esm_finetuned_accelerated/sleek-tree-17/\"\n",
    "finetuned_model = \"/home/salaris/protein_model/function_prediction/protein_model/model/esm_finetuned_accelerated/still-tree-30/\""
   ]
  },
  {
   "cell_type": "code",
   "execution_count": 6,
   "id": "71cf46de-2f62-47a3-9905-b620c4d2c3dc",
   "metadata": {},
   "outputs": [],
   "source": [
    "from functions import EmbeddingEncoder\n",
    "import torch\n",
    "EMB_FEATURES = 384\n",
    "model,tokenizer = load_model(base_model,peft_model_path=finetuned_model)\n",
    "\n",
    "modelname = 'tavakolih/all-MiniLM-L6-v2-pubmed-full'\n",
    "# model = SentenceTransformer(modelname)\n"
   ]
  },
  {
   "cell_type": "code",
   "execution_count": 7,
   "id": "6623de3b-b4a0-468a-8080-af64ccc9833d",
   "metadata": {},
   "outputs": [],
   "source": [
    "# model"
   ]
  },
  {
   "cell_type": "code",
   "execution_count": 8,
   "id": "27e5225c-cf18-4cb2-bad8-53a0c5e8aeb6",
   "metadata": {
    "scrolled": true
   },
   "outputs": [
    {
     "name": "stderr",
     "output_type": "stream",
     "text": [
      "/home/salaris/.conda/envs/cuda_torch/lib/python3.9/site-packages/huggingface_hub/file_download.py:1132: FutureWarning: `resume_download` is deprecated and will be removed in version 1.0.0. Downloads always resume when possible. If you want to force a new download, use `force_download=True`.\n",
      "  warnings.warn(\n"
     ]
    }
   ],
   "source": [
    "st_model = EmbeddingEncoder(modelname)\n",
    "emb =st_model.encode('hi')"
   ]
  },
  {
   "cell_type": "code",
   "execution_count": null,
   "id": "2690d31f-a741-43be-b371-3cf7e282430a",
   "metadata": {},
   "outputs": [],
   "source": []
  },
  {
   "cell_type": "code",
   "execution_count": 9,
   "id": "bafda3aa-16ca-4e4b-acb0-22b56329f8f2",
   "metadata": {},
   "outputs": [],
   "source": [
    "# sequence0 = list(\"KMKIEFSTGCIPISSLFMSIIKEKEKNNKKTKNFTFSVYIKKYSIEGDNFIIEDVILNISTPDLELGFHIYNGLTS\")\n",
    "# sequence1 = sequence0.copy()\n",
    "# sequence1[10] = '<mask>'\n",
    "# sequence1[61] = '<mask>'\n",
    "\n",
    "# sequence = [\"\".join(sequence0),\"\".join(sequence1)]\n",
    "# xx= predict_sequence(model,tokenizer,sequence,max_length=1024,to_cuda=False)\n"
   ]
  },
  {
   "cell_type": "code",
   "execution_count": 10,
   "id": "cff2e7c0-5168-44e2-a5ae-b02277e967b0",
   "metadata": {},
   "outputs": [],
   "source": [
    "# A = xx['logits'][0].argmax(-1)\n",
    "# B = xx['logits'][1].argmax(-1)\n",
    "# plt.plot(A,'x')\n",
    "# plt.plot(B,'*')\n"
   ]
  },
  {
   "cell_type": "code",
   "execution_count": 11,
   "id": "c31f1e7a-0c14-46b5-ba5d-33216280bd80",
   "metadata": {},
   "outputs": [],
   "source": [
    "\n",
    "# predicted_token_ids = xx['logits'].argmax(-1)\n",
    "# predicted_sequences = [\n",
    "#         tokenizer.decode(token_ids, skip_special_tokens=True) \n",
    "#         for token_ids in predicted_token_ids\n",
    "#     ]\n",
    "# list(sequence),predicted_sequences[1]"
   ]
  },
  {
   "cell_type": "code",
   "execution_count": 12,
   "id": "df8c997b-99f5-4ff4-9208-3ecf0b425d03",
   "metadata": {},
   "outputs": [],
   "source": [
    "# plt.plot(xx['regression_logits'][0])\n",
    "# plt.plot(xx['regression_logits'][1])"
   ]
  },
  {
   "cell_type": "code",
   "execution_count": 13,
   "id": "bdb213d4-8e85-4ead-818e-850e3245a94e",
   "metadata": {},
   "outputs": [],
   "source": [
    "output_file = '/home/salaris/protein_model/function_prediction/data/prot_func.tsv'\n",
    "\n",
    "all_data = pd.read_csv(output_file,sep = \"\\t\", nrows = 10000)\n"
   ]
  },
  {
   "cell_type": "code",
   "execution_count": 36,
   "id": "05344372-e4d7-4c84-b8cc-b169f1be749d",
   "metadata": {
    "scrolled": true
   },
   "outputs": [
    {
     "data": {
      "text/plain": [
       "'MNRDLQELPRFDENWSYLYFEKGHIEQDMQTVAYFYKDKKVPIPAETLSLLMLGPGTTITHAAIKRLTDARCLLCWVGDEGVRMYSAGTQGTYSSRNLLRQAQLYSDPEERLRVVRKLYEMRFDEVVDERYSIEQLRGKEGARVRAAYKAAAEEYEIEWTGRNYDQSEWGISDPINKALSAANSCLYGLCHAAILAVGCSAGIGFIHTGKQLSFVYDLADLYKTELTIPIAFRIAQGPASVESRVRMECRDVFKERKLLKRIIPDIMEVLYGNRRAGESDAGSEGRDVAVNY'"
      ]
     },
     "execution_count": 36,
     "metadata": {},
     "output_type": "execute_result"
    }
   ],
   "source": [
    "#lets pick something:\n",
    "p = -1\n",
    "while p <100:\n",
    "    try:\n",
    "        candidate = all_data.sample(1).iloc[0]\n",
    "        p = 1000\n",
    "    except:\n",
    "        print('failed')\n",
    "        p = p + 1\n",
    "# reference_embedding= emb =st_model.encode(candidate.go)\n",
    "candidate.sequence\n"
   ]
  },
  {
   "cell_type": "code",
   "execution_count": 46,
   "id": "f724f976-98db-4e9f-80c4-59548c9767f3",
   "metadata": {},
   "outputs": [
    {
     "name": "stdout",
     "output_type": "stream",
     "text": [
      "(384,)\n"
     ]
    },
    {
     "data": {
      "text/plain": [
       "Text(0.5, 1.0, '-0.14195024967193604')"
      ]
     },
     "execution_count": 46,
     "metadata": {},
     "output_type": "execute_result"
    },
    {
     "data": {
      "image/png": "[encoded data removed]",
      "text/plain": [
       "<Figure size 640x480 with 1 Axes>"
      ]
     },
     "metadata": {},
     "output_type": "display_data"
    }
   ],
   "source": [
    "\n",
    "candidate_embedding = st_model.encode(candidate.go)\n",
    "print(candidate_embedding.shape)\n",
    "# candidate_embedding\n",
    "xx = predict_sequence(model,tokenizer,candidate.sequence, max_length=512,to_cuda=False)['regression_logits']\n",
    "plt.scatter(xx,candidate_embedding)\n",
    "plt.title(r2_score(np.array(xx)[-1,:],candidate_embedding))"
   ]
  },
  {
   "cell_type": "code",
   "execution_count": null,
   "id": "55fe0a7c-c067-4054-915d-ca262034f7d2",
   "metadata": {},
   "outputs": [],
   "source": [
    "from deap import base, creator, tools, algorithms\n",
    "import random\n",
    "import numpy as np\n",
    "from Levenshtein import distance\n",
    "from sklearn.metrics import r2_score\n",
    "# Your specific starting sequence and positions to mutate\n",
    "\n",
    "amino_acids = 'ACDEFGHIKLMNPQRSTVWY'\n",
    "\n",
    "\n",
    "\n",
    "starting_sequence = candidate.sequence\n",
    "sequence_length = len(starting_sequence)\n",
    "\n",
    "\n",
    "print('starting sequence length:', len(starting_sequence))\n",
    "\n",
    "positions_to_mutate = range(0,sequence_length,50)  # example positions\n",
    "# positions_to_mutate = range(sequence_length)\n",
    "# mutate some random positions \n",
    "ss = list(starting_sequence)\n",
    "for position in positions_to_mutate:\n",
    "    ss[position] = random.choice(amino_acids)\n",
    "starting_sequence = \"\".join(ss)\n",
    "print(starting_sequence)\n",
    "\n",
    "\n",
    "\n",
    "# Define the fitness function\n",
    "def fitness_function(sequence,model,tokenizer,candidate_embedding):\n",
    "    # print(sequence)\n",
    "    xx = predict_sequence(model,tokenizer, \"\".join(sequence), max_length = 512, to_cuda= False)['regression_logits']\n",
    "    # print(xx.shape, candidate_embedding.shape)\n",
    "    return(r2_score(xx.cpu().numpy().reshape(-1),candidate_embedding),)\n",
    "# Define the sequence creator\n",
    "creator.create(\"FitnessMax\", base.Fitness, weights=(1.0,))\n",
    "creator.create(\"Individual\", list, fitness=creator.FitnessMax)\n",
    "\n",
    "\n",
    "\n",
    "# Initialization of the population\n",
    "toolbox = base.Toolbox()\n",
    "\n",
    "# Define a generator function for new individuals\n",
    "def generate_individual():\n",
    "    return creator.Individual(list(starting_sequence))\n",
    "\n",
    "toolbox.register(\"individual\", generate_individual)\n",
    "toolbox.register(\"population\", tools.initRepeat, list, toolbox.individual)\n",
    "\n",
    "# Custom mutation function\n",
    "def custom_mutate(individual):\n",
    "    for position in positions_to_mutate:\n",
    "        # Randomly select a new amino acid for the position\n",
    "        individual[position] = random.choice('ACDEFGHIKLMNPQRSTVWY')\n",
    "    return individual,\n",
    "\n",
    "# Operators\n",
    "toolbox.register(\"evaluate\", fitness_function,**{'model':model, 'tokenizer':tokenizer, 'candidate_embedding': candidate_embedding})\n",
    "toolbox.register(\"mate\", tools.cxUniform, indpb=0.1)  # Uniform crossover\n",
    "toolbox.register(\"mutate\", custom_mutate)\n",
    "toolbox.register(\"select\", tools.selTournament, tournsize=3)\n",
    "\n",
    "# Genetic Algorithm\n",
    "def main():\n",
    "    pop0 = toolbox.population(n=50)  # n is the number of individuals\n",
    "    hof = tools.HallOfFame(1, similar=lambda x, y: x == y)\n",
    "    stats = tools.Statistics(lambda ind: ind.fitness.values)\n",
    "    stats.register(\"avg\", np.mean)\n",
    "    stats.register(\"min\", np.min)\n",
    "    stats.register(\"max\", np.max)\n",
    "\n",
    "    pop, log = algorithms.eaSimple(pop0, toolbox, cxpb=0.5, mutpb=0.2, ngen=380, stats=stats, halloffame=hof, verbose=True)  # ngen is the number of generations\n",
    "\n",
    "    return pop, log, hof,pop0,stats\n",
    "\n",
    "# if __name__ == \"__main__\":\n",
    "#     main()\n"
   ]
  },
  {
   "cell_type": "code",
   "execution_count": null,
   "id": "c66c17b7-4909-4c5e-995f-5e72c78e6863",
   "metadata": {},
   "outputs": [],
   "source": [
    "[p for p in positions_to_mutate]"
   ]
  },
  {
   "cell_type": "code",
   "execution_count": null,
   "id": "f746124e-68c6-4afa-935b-0239929a4e1e",
   "metadata": {},
   "outputs": [],
   "source": [
    "test_embedding = st_model.encode(starting_sequence)\n",
    "r2_score(test_embedding, candidate_embedding)"
   ]
  },
  {
   "cell_type": "code",
   "execution_count": null,
   "id": "b92ec76c-5364-47e4-8f1c-590e3ffbb391",
   "metadata": {},
   "outputs": [],
   "source": [
    "pop , log , hof,pop0,stats = main()"
   ]
  },
  {
   "cell_type": "code",
   "execution_count": null,
   "id": "800d361e-89b6-4fd4-829a-0a8ea96f250e",
   "metadata": {},
   "outputs": [],
   "source": [
    "a = starting_sequence\n",
    "a"
   ]
  },
  {
   "cell_type": "code",
   "execution_count": null,
   "id": "5395a133-439d-4507-8119-72d04ddfecba",
   "metadata": {},
   "outputs": [],
   "source": [
    "best =\"\".join(hof.items[0])"
   ]
  },
  {
   "cell_type": "code",
   "execution_count": null,
   "id": "9fd15927-3399-4ab9-8b7b-106a3c7200ad",
   "metadata": {},
   "outputs": [],
   "source": [
    "ss =  candidate.sequence\n",
    "ss"
   ]
  },
  {
   "cell_type": "code",
   "execution_count": null,
   "id": "c46ae9cc-7c76-4fce-9d1f-edf9c1c5a8e5",
   "metadata": {},
   "outputs": [],
   "source": [
    "distance(ss,best)"
   ]
  },
  {
   "cell_type": "code",
   "execution_count": null,
   "id": "5f1760c3-0f86-4769-9bc5-0866acc87ed5",
   "metadata": {},
   "outputs": [],
   "source": [
    "distance(ss,starting_sequence)"
   ]
  },
  {
   "cell_type": "code",
   "execution_count": null,
   "id": "a3a2a23c-07e2-426e-86db-1a132f159c8c",
   "metadata": {},
   "outputs": [],
   "source": [
    "pop0 = toolbox.population(n=300)\n",
    "a = \"\".join(pop0[0])\n",
    "a"
   ]
  },
  {
   "cell_type": "code",
   "execution_count": null,
   "id": "da4322d7-fec7-46a7-8063-ceadf837b4aa",
   "metadata": {},
   "outputs": [],
   "source": []
  },
  {
   "cell_type": "code",
   "execution_count": null,
   "id": "d918d149-6ae9-446f-baae-bf8de78c039d",
   "metadata": {},
   "outputs": [],
   "source": [
    "star"
   ]
  }
 ],
 "metadata": {
  "kernelspec": {
   "display_name": "Python 3 (ipykernel)",
   "language": "python",
   "name": "python3"
  },
  "language_info": {
   "codemirror_mode": {
    "name": "ipython",
    "version": 3
   },
   "file_extension": ".py",
   "mimetype": "text/x-python",
   "name": "python",
   "nbconvert_exporter": "python",
   "pygments_lexer": "ipython3",
   "version": "3.9.18"
  }
 },
 "nbformat": 4,
 "nbformat_minor": 5
}
