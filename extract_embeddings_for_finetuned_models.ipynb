{
 "cells": [
  {
   "cell_type": "markdown",
   "id": "e4ec5f5a",
   "metadata": {},
   "source": [
    "## Intro\n",
    "This notebook will:\n",
    "#### extrac the embeddings for each model (baseline vs fine tuned) \n",
    "#### train a shallow model (xgboost ) \n",
    "#### test the validation set accuracy against the shallow model results \n"
   ]
  },
  {
   "cell_type": "code",
   "execution_count": null,
   "id": "9feb9d04-5c0e-4cf0-bfc6-4d6e49ef1dd8",
   "metadata": {},
   "outputs": [],
   "source": []
  },
  {
   "cell_type": "code",
   "execution_count": 1,
   "id": "2f3580d0",
   "metadata": {},
   "outputs": [],
   "source": [
    "import pathlib\n",
    "import torch\n",
    "\n",
    "from esm import FastaBatchedDataset, pretrained"
   ]
  },
  {
   "cell_type": "code",
   "execution_count": 2,
   "id": "7dbff300-0dfe-4d72-8342-53642e522833",
   "metadata": {},
   "outputs": [],
   "source": [
    "use_raw_model = False"
   ]
  },
  {
   "cell_type": "code",
   "execution_count": 3,
   "id": "cb249643",
   "metadata": {},
   "outputs": [],
   "source": [
    "from transformers import AutoTokenizer, EsmForSequenceClassification\n",
    "import torch\n",
    "from pathlib import Path\n",
    "\n",
    "\n",
    "from transformers import AutoModelForSequenceClassification, AutoModel, EsmForSequenceClassification\n",
    "# Example usage\n",
    "#peft_model_path = \"/home/salaris/protein_model/models/esm_finetuned_accelerated/visionary-lake-1/\"\n",
    "# peft_model_path = \"/home/salaris/protein_model/seq_models/esm_finetuned_accelerated/sweet-dawn-9/\"\n",
    "# peft_model_path = \"/home/salaris/protein_model/seq_models/esm_finetuned_accelerated/faithful-fog-9/\"\n",
    "# peft_model_path = \"/home/salaris/protein_model/seq_models/esm_finetuned_accelerated/solar-dew-10/\"\n",
    "peft_model_path = \"/home/salaris/protein_model/seq_models/esm_finetuned_accelerated/jolly-capybara-19/\"\n",
    "\n",
    "\n",
    "# base_model_path = \"/home/salaris/protein_model/models/base_model_accelerated/\"\n",
    "base_model_path = \"/home/salaris/protein_model/seq_models/esm2_t30_150M_UR50D_base_model_accelerated/\"\n",
    "# config_path = \"/home/salaris/protein_model/models/esm_finetuned_accelerated/adapter_config.json\"\n"
   ]
  },
  {
   "cell_type": "code",
   "execution_count": 4,
   "id": "f00423df",
   "metadata": {},
   "outputs": [],
   "source": [
    "# load the trainig set \n",
    "import pandas as pd\n",
    "# training_set_path = \"/home/salaris/protein_model/data/all_data_20240704_14.csvtrain_test.csv\"\n",
    "# validation_set_path = \"/home/salaris/protein_model/data/all_data_20240704_14.csvtfinal_validation.csv\"\n",
    "\n",
    "# Mohammad\n",
    "training_set_path = \"/home/salaris/protein_model/data_binary/all_data_20240712_05.csvtrain_test.csv\"\n",
    "validation_set_path = \"/home/salaris/protein_model/data_binary/all_data_20240712_05.csvtfinal_validation.csv\"\n",
    "\n",
    "\n",
    "\n"
   ]
  },
  {
   "cell_type": "code",
   "execution_count": 5,
   "id": "d3a59956",
   "metadata": {},
   "outputs": [],
   "source": [
    "from transformers import AutoTokenizer, EsmForSequenceClassification\n",
    "import torch\n",
    "from pathlib import Path"
   ]
  },
  {
   "cell_type": "code",
   "execution_count": 6,
   "id": "63ed8b72",
   "metadata": {},
   "outputs": [],
   "source": [
    "# "
   ]
  },
  {
   "cell_type": "code",
   "execution_count": null,
   "id": "d4ee79ca",
   "metadata": {},
   "outputs": [],
   "source": []
  },
  {
   "cell_type": "code",
   "execution_count": 7,
   "id": "4ce5704a",
   "metadata": {},
   "outputs": [],
   "source": [
    "#  output_model_file = /path/to/pytorch_mode.bin/\n",
    "#  model_state_dict = torch.load(output_model_file) \n",
    "#  model = BertModel.from_pretrained(bert_model, state_dict=model_state_dict)\n",
    "\n",
    "\n",
    "from transformers import AutoTokenizer, EsmForSequenceClassification\n",
    "import torch\n",
    "from pathlib import Path\n",
    "\n",
    "def load_model(base_model_path, peft_model_path,only_raw_model = False):\n",
    "    \"\"\"\n",
    "    Load the fine-tuned model and tokenizer from the given local path.\n",
    "    \"\"\"\n",
    "    base_path = Path(base_model_path)\n",
    "    model_path = Path(peft_model_path)\n",
    "    tokenizer = AutoTokenizer.from_pretrained(model_path, local_files_only=True)\n",
    "    if not only_raw_model:\n",
    "        # method1\n",
    "        #model_state_dict = torch.load(f\"{peft_model_path}/model.pth\")\n",
    "        #model = EsmForSequenceClassification.from_pretrained(base_model_path, local_files_only=True,state_dict = model_state_dict)\n",
    "\n",
    "        #method 2\n",
    "        model = EsmForSequenceClassification.from_pretrained(base_model_path, local_files_only=True)\n",
    "        model.load_adapter(peft_model_path)\n",
    "        # print('loading the finetuned model')\n",
    "    else:\n",
    "        model = EsmForSequenceClassification.from_pretrained(base_model_path, local_files_only=True)\n",
    "        # model = EsmForSequenceClassification.from_pretrained(\"facebook/esm2_t6_8M_UR50D\")\n",
    "        # print('loading the raw model')\n",
    "        \n",
    "    model.eval()  # Set the model to evaluation mode\n",
    "    return model, tokenizer\n",
    "\n",
    "def predict_sequence(model, tokenizer, sequence, max_length=512, to_cuda = True):\n",
    "    \"\"\"\n",
    "    Predict the class of the given sequence using the fine-tuned model.\n",
    "    \"\"\"\n",
    "    # Preprocess the input sequence\n",
    "    inputs = tokenizer(sequence, padding=True, truncation=True, max_length=max_length, return_tensors=\"pt\")\n",
    "    inputs = {key: val.to(model.device) for key, val in inputs.items()}\n",
    "    if to_cuda:\n",
    "        inputs.cuda()\n",
    "    # Make prediction\n",
    "    with torch.no_grad():\n",
    "        outputs = model(**inputs)\n",
    "        logits = outputs.logits\n",
    "        predictions = torch.argmax(logits, dim=-1)\n",
    "\n",
    "    return predictions.cpu().numpy()\n",
    "\n"
   ]
  },
  {
   "cell_type": "code",
   "execution_count": 23,
   "id": "b7740e19",
   "metadata": {},
   "outputs": [],
   "source": [
    "              \n",
    "# def extract_embeddings(base_model_path, tuned_model_path, seq_list , output_dir, seq_length = 1024, repr_layer = [-1], only_raw_model = None):\n",
    "#     from transformers import EsmTokenizer, EsmModel\n",
    "#     import torch\n",
    "#     model,tokenizer = load_model(base_model_path = base_model_path, peft_model_path = tuned_model_path,only_raw_model = only_raw_model)\n",
    "#     if torch.cuda.is_available():\n",
    "#         model = model.base_model.cuda()\n",
    "#         model = torch.nn.DataParallel(model)\n",
    "                \n",
    "#     seqs =seq_list\n",
    "#     inputs = tokenizer(seqs, return_tensors=\"pt\", padding=True, truncation=True,max_length = seq_length)\n",
    "    \n",
    "#     with torch.no_grad():\n",
    "#         outputs = model(**inputs)\n",
    " \n",
    "#     last_hidden_states = outputs.last_hidden_state\n",
    "#     x = last_hidden_states.detach()\n",
    "#     # x= x.mean(axis=1)\n",
    "#     # mask = text != self.pad_token\n",
    "#     denom = torch.sum(mask, -1, keepdim=True)\n",
    "#     emb = torch.sum(x, dim=1) / denom.cuda()\n",
    "#     return(emb)\n",
    "\n",
    "\n",
    "\n",
    "\n",
    "# def extract_embeddings(base_model_path, tuned_model_path, seq_list , output_dir, seq_length = 1024, repr_layer = [-1], only_raw_model = None):\n",
    "#     from transformers import EsmTokenizer, EsmModel\n",
    "#     import torch\n",
    "#     model,tokenizer = load_model(base_model_path = base_model_path, peft_model_path = tuned_model_path,only_raw_model = only_raw_model)\n",
    "#     if torch.cuda.is_available():\n",
    "#         model = model.base_model.cuda()\n",
    "#         model = torch.nn.DataParallel(model)\n",
    "                \n",
    "#     seqs =seq_list\n",
    "#     inputs = tokenizer(seqs, return_tensors=\"pt\", padding=True, truncation=True,max_length = seq_length)\n",
    "    \n",
    "#     with torch.no_grad():\n",
    "#         last_hidden_state = model(**inputs, output_hidden_states=True).hidden_states[-1].cuda()\n",
    "\n",
    "\n",
    "#     weights_for_non_padding = inputs.attention_mask.cuda() * torch.arange(start=1, end=last_hidden_state.shape[1] + 1).unsqueeze(0).cuda()\n",
    "\n",
    "#     sum_embeddings = torch.sum(last_hidden_state * weights_for_non_padding.unsqueeze(-1), dim=1)\n",
    "#     num_of_none_padding_tokens = torch.sum(weights_for_non_padding, dim=-1).unsqueeze(-1)\n",
    "#     sentence_embeddings = sum_embeddings / num_of_none_padding_tokens\n",
    "    \n",
    "#     return(sentence_embeddings)\n",
    "\n",
    "\n",
    "\n",
    "def load_model(base_model_path, peft_model_path,only_raw_model = False):\n",
    "    \"\"\"\n",
    "    Load the fine-tuned model and tokenizer from the given local path.\n",
    "    \"\"\"\n",
    "    base_path = Path(base_model_path)\n",
    "    model_path = Path(peft_model_path)\n",
    "    tokenizer = AutoTokenizer.from_pretrained(model_path, local_files_only=True)\n",
    "    if not only_raw_model:\n",
    "        # method1\n",
    "        #model_state_dict = torch.load(f\"{peft_model_path}/model.pth\")\n",
    "        #model = EsmForSequenceClassification.from_pretrained(base_model_path, local_files_only=True,state_dict = model_state_dict)\n",
    "\n",
    "        #method 2\n",
    "        model = EsmForSequenceClassification.from_pretrained(base_model_path, local_files_only=True)\n",
    "        model.load_adapter(peft_model_path)\n",
    "        # print('loading the finetuned model')\n",
    "    else:\n",
    "        model = EsmForSequenceClassification.from_pretrained(base_model_path, local_files_only=True)\n",
    "        # model = EsmForSequenceClassification.from_pretrained(\"facebook/esm2_t6_8M_UR50D\")\n",
    "        # print('loading the raw model')\n",
    "        \n",
    "    model.eval()  # Set the model to evaluation mode\n",
    "    return model, tokenizer\n",
    "\n",
    "\n",
    "def extract_embeddings(model,tokenizer, seq_list, seq_length = 1024):\n",
    "    from transformers import EsmTokenizer, EsmModel\n",
    "    import torch\n",
    "    if torch.cuda.is_available():\n",
    "        model = model.base_model.cuda()\n",
    "        model = torch.nn.DataParallel(model)\n",
    "                \n",
    "    seqs =seq_list\n",
    "    inputs = tokenizer(seqs, return_tensors=\"pt\", padding=True, truncation=True,max_length = seq_length)\n",
    "    \n",
    "    with torch.no_grad():\n",
    "        outputs = model(**inputs)\n",
    " \n",
    "    last_hidden_states = outputs.last_hidden_state\n",
    "    x = last_hidden_states.detach()\n",
    "    mask = inputs['attention_mask']\n",
    "    # mask = text != self.pad_token\n",
    "    denom = torch.sum(mask, -1, keepdim=True)\n",
    "    emb = torch.sum(x, dim=1) / denom.cuda()\n",
    "\n",
    "    # x= x.mean(axis=1)\n",
    "    # return(emb)\n",
    "    return(x, denom, mask,emb)"
   ]
  },
  {
   "cell_type": "code",
   "execution_count": null,
   "id": "90c7084f-8ca2-4f74-84f0-d74f87ac074d",
   "metadata": {},
   "outputs": [],
   "source": []
  },
  {
   "cell_type": "code",
   "execution_count": 9,
   "id": "4f74cf34",
   "metadata": {},
   "outputs": [],
   "source": [
    "# caslist = ['cas1','cas2','cas3','cas4','cas5','cas6','cas7','cas8','cas9','cas10','cas11','cas12','cas13']\n"
   ]
  },
  {
   "cell_type": "code",
   "execution_count": 10,
   "id": "53c0f454",
   "metadata": {},
   "outputs": [],
   "source": [
    "model_name = 'esm2_t33_650M_UR50D'\n"
   ]
  },
  {
   "cell_type": "code",
   "execution_count": 11,
   "id": "9fb98e35",
   "metadata": {},
   "outputs": [],
   "source": [
    "torch.cuda.empty_cache()\n"
   ]
  },
  {
   "cell_type": "code",
   "execution_count": 12,
   "id": "bd3407fa",
   "metadata": {},
   "outputs": [],
   "source": [
    "# base_model_path = \"/home/salaris/protein_model/models/base_model_accelerated/\"\n",
    "# tuned_model_path =\"/home/salaris/protein_model/models/esm_finetuned_accelerated/\"\n",
    "\n",
    "# # seq = \"\"\"MQIGKVQGRTISEFGDPAGGLKRKISTDGKNRKELPAHLSSDPKALIGQWISGIDKIYRKPDSRKSDGKAIHSPTPSKMQFDARDDLGEAFWKLVSEAGLAQDSDYDQFKRRLHPYGDKFQPADSGAKLKFEADPPEPQAFHGRWYGAMSKRGNDAKELAAALYEHLHVDEKRIDGQPKR\"\"\"\n",
    "# new_embeddings = extract_embeddings(base_model_path=base_model_path, tuned_model_path=tuned_model_path,\n",
    "#                             seq_list = [seq1,seq2], output_dir = \"\")\n",
    "# old_embeddings = extract_embeddings(base_model_path=base_model_path, tuned_model_path=tuned_model_path,\n",
    "#                             seq_list = [seq1,seq2], output_dir = \"\",onlybase=False)"
   ]
  },
  {
   "cell_type": "code",
   "execution_count": 13,
   "id": "780df601",
   "metadata": {},
   "outputs": [],
   "source": [
    "# new_embeddings - old_embeddings"
   ]
  },
  {
   "cell_type": "markdown",
   "id": "d2c312b3",
   "metadata": {},
   "source": [
    "## Load the training set:"
   ]
  },
  {
   "cell_type": "code",
   "execution_count": 14,
   "id": "8d924790",
   "metadata": {},
   "outputs": [],
   "source": [
    "\n",
    "training_set_df = pd.read_csv(training_set_path,sep = '\\t')\n",
    "validation_set_df = pd.read_csv(validation_set_path, sep = \"\\t\")"
   ]
  },
  {
   "cell_type": "code",
   "execution_count": 15,
   "id": "927b7349",
   "metadata": {},
   "outputs": [
    {
     "name": "stderr",
     "output_type": "stream",
     "text": [
      "Some weights of EsmForSequenceClassification were not initialized from the model checkpoint at /home/salaris/protein_model/seq_models/esm2_t30_150M_UR50D_base_model_accelerated/ and are newly initialized: ['classifier.dense.bias', 'classifier.dense.weight', 'classifier.out_proj.bias', 'classifier.out_proj.weight']\n",
      "You should probably TRAIN this model on a down-stream task to be able to use it for predictions and inference.\n"
     ]
    },
    {
     "name": "stdout",
     "output_type": "stream",
     "text": [
      "saving finetuned training model\n",
      "/home/salaris/protein_model/data_binary/all_data_20240712_05.csvtrain_test.csvjolly-capybara-19_finetuned.torch.pt\n"
     ]
    }
   ],
   "source": [
    "seqlist = training_set_df.seq.to_list()\n",
    "all_embeddings = []\n",
    "\n",
    "\n",
    "model,tokenizer = load_model(base_model_path,peft_model_path=peft_model_path,only_raw_model=use_raw_model)\n",
    "def chunk_list(input_list, chunk_size):\n",
    "    \"\"\"Yield successive chunks from input_list of size chunk_size.\"\"\"\n",
    "    for i in range(0, len(input_list), chunk_size):\n",
    "        yield input_list[i:i + chunk_size]\n",
    "\n",
    "for chunk in chunk_list(seqlist, chunk_size = 200):\n",
    "    embeddings = extract_embeddings(model,tokenizer,\n",
    "                                    seq_list = chunk  ,seq_length=1024)\n",
    "    all_embeddings.extend(embeddings.cpu())\n",
    "    \n",
    "training_dataset = {'seq': training_set_df.seq, \n",
    "           'description': training_set_df.description,\n",
    "           'record_id': training_set_df.record_id, \n",
    "          'class': training_set_df['class'],\n",
    "          'embeddings': all_embeddings}\n",
    "# save tensors to file \n",
    "if use_raw_model:\n",
    "    print('saving raw training model')\n",
    "    torch_file_name = training_set_path + \"_raw.torch.pt\"\n",
    "else:\n",
    "    print('saving finetuned training model')\n",
    "    model_name = peft_model_path.split(\"/\")[-2]\n",
    "    torch_file_name = training_set_path + model_name +\"_finetuned.torch.pt\"\n",
    "\n",
    "torch.save(training_dataset,torch_file_name)\n",
    "print(torch_file_name)"
   ]
  },
  {
   "cell_type": "code",
   "execution_count": 16,
   "id": "1c66b792",
   "metadata": {},
   "outputs": [
    {
     "data": {
      "text/plain": [
       "'jolly-capybara-19'"
      ]
     },
     "execution_count": 16,
     "metadata": {},
     "output_type": "execute_result"
    }
   ],
   "source": [
    "model_name = peft_model_path.split(\"/\")[-2]\n",
    "model_name"
   ]
  },
  {
   "cell_type": "code",
   "execution_count": 17,
   "id": "af822236",
   "metadata": {},
   "outputs": [],
   "source": [
    "torch.cuda.empty_cache()\n"
   ]
  },
  {
   "cell_type": "markdown",
   "id": "90e91917",
   "metadata": {},
   "source": [
    "## Load the validation set:"
   ]
  },
  {
   "cell_type": "code",
   "execution_count": 19,
   "id": "3902ac6d",
   "metadata": {
    "scrolled": true
   },
   "outputs": [
    {
     "name": "stderr",
     "output_type": "stream",
     "text": [
      "Some weights of EsmForSequenceClassification were not initialized from the model checkpoint at /home/salaris/protein_model/seq_models/esm2_t30_150M_UR50D_base_model_accelerated/ and are newly initialized: ['classifier.dense.bias', 'classifier.dense.weight', 'classifier.out_proj.bias', 'classifier.out_proj.weight']\n",
      "You should probably TRAIN this model on a down-stream task to be able to use it for predictions and inference.\n"
     ]
    },
    {
     "name": "stdout",
     "output_type": "stream",
     "text": [
      "saving finetuned validation model\n",
      "/home/salaris/protein_model/data_binary/all_data_20240712_05.csvtfinal_validation.csvjolly-capybara-19_finetuned.torch.pt\n"
     ]
    }
   ],
   "source": [
    "model,tokenizer = load_model(base_model_path,peft_model_path=peft_model_path,only_raw_model=use_raw_model)\n",
    "\n",
    "seqlist = validation_set_df.seq.to_list()\n",
    "all_embeddings = []\n",
    "def chunk_list(input_list, chunk_size):\n",
    "    \"\"\"Yield successive chunks from input_list of size chunk_size.\"\"\"\n",
    "    for i in range(0, len(input_list), chunk_size):\n",
    "        yield input_list[i:i + chunk_size]\n",
    "\n",
    "for chunk in chunk_list(seqlist, chunk_size = 200):\n",
    "    embeddings = extract_embeddings(model,tokenizer, seq_list = chunk  ,seq_length=1024)\n",
    "    all_embeddings.extend(embeddings.cpu())\n",
    "    \n",
    "validation_dataset = {'seq': validation_set_df.seq, \n",
    "           'description': validation_set_df.description,\n",
    "           'record_id': validation_set_df.record_id, \n",
    "          'class': validation_set_df['class'],\n",
    "          'embeddings': all_embeddings}\n",
    "# save tensors to file \n",
    "if use_raw_model:\n",
    "    print('saving raw validation model')\n",
    "    torch_file_name = validation_set_path + \"_raw.torch.pt\"\n",
    "else:\n",
    "    print('saving finetuned validation model')\n",
    "    model_name = peft_model_path.split(\"/\")[-2]\n",
    "\n",
    "    torch_file_name = validation_set_path + model_name +\"_finetuned.torch.pt\"\n",
    "    \n",
    "torch.save(validation_dataset,torch_file_name)\n",
    "print(torch_file_name)"
   ]
  },
  {
   "cell_type": "code",
   "execution_count": 20,
   "id": "20a60b9b-bfba-4e04-9511-152bf6aa268a",
   "metadata": {},
   "outputs": [
    {
     "data": {
      "text/plain": [
       "False"
      ]
     },
     "execution_count": 20,
     "metadata": {},
     "output_type": "execute_result"
    }
   ],
   "source": [
    "use_raw_model"
   ]
  },
  {
   "cell_type": "code",
   "execution_count": 21,
   "id": "b0fe8d42",
   "metadata": {},
   "outputs": [],
   "source": [
    "torch.cuda.empty_cache()\n"
   ]
  },
  {
   "cell_type": "markdown",
   "id": "805abf25-2cb7-4ccc-9c4c-5a995560e3e4",
   "metadata": {},
   "source": [
    "# remove these later"
   ]
  },
  {
   "cell_type": "code",
   "execution_count": 22,
   "id": "ffd27684-1f98-4b23-a775-9747cb88b1f0",
   "metadata": {},
   "outputs": [
    {
     "data": {
      "text/plain": [
       "'/home/salaris/protein_model/data_binary/all_data_20240712_05.csvtfinal_validation.csvjolly-capybara-19_finetuned.torch.pt'"
      ]
     },
     "execution_count": 22,
     "metadata": {},
     "output_type": "execute_result"
    }
   ],
   "source": [
    "torch_file_name"
   ]
  },
  {
   "cell_type": "code",
   "execution_count": 24,
   "id": "fb718aa7-a55d-4fef-82de-1c03726c5fb7",
   "metadata": {},
   "outputs": [
    {
     "name": "stderr",
     "output_type": "stream",
     "text": [
      "Some weights of EsmForSequenceClassification were not initialized from the model checkpoint at /home/salaris/protein_model/seq_models/esm2_t30_150M_UR50D_base_model_accelerated/ and are newly initialized: ['classifier.dense.bias', 'classifier.dense.weight', 'classifier.out_proj.bias', 'classifier.out_proj.weight']\n",
      "You should probably TRAIN this model on a down-stream task to be able to use it for predictions and inference.\n"
     ]
    }
   ],
   "source": [
    "model,tokenizer = load_model(base_model_path,peft_model_path=peft_model_path,only_raw_model=use_raw_model)\n"
   ]
  },
  {
   "cell_type": "code",
   "execution_count": 49,
   "id": "1b08dfb2-f568-4d0b-8b5d-2817a72e4d9e",
   "metadata": {},
   "outputs": [],
   "source": [
    "sequences = [\"DQATSLRILNNGHAFNVEFDDSQDKAVLKGG\",\"DQATSLRILNNGHAFNVEFDDSQDKAVLKGGPLDGTYRLIQFHFHWGSLDGQGSEHTVDKK\",\" KYAAELHLVHWNTKYGDFGKAVQQPDGLAVLGIFLKVGSAKPGLQKVVDVLDSIKTKSIKTKGKSADFTNFDPRGLLPESLDYWTYPGSLTTPP\"]"
   ]
  },
  {
   "cell_type": "code",
   "execution_count": 50,
   "id": "72e2c580-dbf0-41b8-9142-9698adb7942b",
   "metadata": {},
   "outputs": [],
   "source": [
    "x, denom, mask,emb = extract_embeddings(model , tokenizer, sequences,)"
   ]
  },
  {
   "cell_type": "code",
   "execution_count": 139,
   "id": "e0d1583d-ab8a-4a12-8df9-7ec4c01941a9",
   "metadata": {},
   "outputs": [
    {
     "ename": "AttributeError",
     "evalue": "",
     "output_type": "error",
     "traceback": [
      "\u001b[0;31m---------------------------------------------------------------------------\u001b[0m",
      "\u001b[0;31mKeyError\u001b[0m                                  Traceback (most recent call last)",
      "File \u001b[0;32m~/.conda/envs/cuda_torch/lib/python3.9/site-packages/transformers/tokenization_utils_base.py:267\u001b[0m, in \u001b[0;36mBatchEncoding.__getattr__\u001b[0;34m(self, item)\u001b[0m\n\u001b[1;32m    266\u001b[0m \u001b[38;5;28;01mtry\u001b[39;00m:\n\u001b[0;32m--> 267\u001b[0m     \u001b[38;5;28;01mreturn\u001b[39;00m \u001b[38;5;28;43mself\u001b[39;49m\u001b[38;5;241;43m.\u001b[39;49m\u001b[43mdata\u001b[49m\u001b[43m[\u001b[49m\u001b[43mitem\u001b[49m\u001b[43m]\u001b[49m\n\u001b[1;32m    268\u001b[0m \u001b[38;5;28;01mexcept\u001b[39;00m \u001b[38;5;167;01mKeyError\u001b[39;00m:\n",
      "\u001b[0;31mKeyError\u001b[0m: 'shape'",
      "\nDuring handling of the above exception, another exception occurred:\n",
      "\u001b[0;31mAttributeError\u001b[0m                            Traceback (most recent call last)",
      "Cell \u001b[0;32mIn[139], line 1\u001b[0m\n\u001b[0;32m----> 1\u001b[0m \u001b[43mtokenizer\u001b[49m\u001b[43m(\u001b[49m\u001b[43msequences\u001b[49m\u001b[43m)\u001b[49m\u001b[38;5;241;43m.\u001b[39;49m\u001b[43mshape\u001b[49m\n",
      "File \u001b[0;32m~/.conda/envs/cuda_torch/lib/python3.9/site-packages/transformers/tokenization_utils_base.py:269\u001b[0m, in \u001b[0;36mBatchEncoding.__getattr__\u001b[0;34m(self, item)\u001b[0m\n\u001b[1;32m    267\u001b[0m     \u001b[38;5;28;01mreturn\u001b[39;00m \u001b[38;5;28mself\u001b[39m\u001b[38;5;241m.\u001b[39mdata[item]\n\u001b[1;32m    268\u001b[0m \u001b[38;5;28;01mexcept\u001b[39;00m \u001b[38;5;167;01mKeyError\u001b[39;00m:\n\u001b[0;32m--> 269\u001b[0m     \u001b[38;5;28;01mraise\u001b[39;00m \u001b[38;5;167;01mAttributeError\u001b[39;00m\n",
      "\u001b[0;31mAttributeError\u001b[0m: "
     ]
    }
   ],
   "source": [
    "tokenizer(sequences)"
   ]
  },
  {
   "cell_type": "code",
   "execution_count": 52,
   "id": "5f89d05a-f857-4a4f-86ad-fde8f32879a7",
   "metadata": {},
   "outputs": [
    {
     "data": {
      "text/plain": [
       "tensor([33, 63, 96])"
      ]
     },
     "execution_count": 52,
     "metadata": {},
     "output_type": "execute_result"
    }
   ],
   "source": [
    "mask.sum(axis = 1)"
   ]
  },
  {
   "cell_type": "code",
   "execution_count": 53,
   "id": "ca75a4ef-878e-49cd-be0a-7cf27b807687",
   "metadata": {},
   "outputs": [
    {
     "data": {
      "text/plain": [
       "torch.Size([3, 96, 640])"
      ]
     },
     "execution_count": 53,
     "metadata": {},
     "output_type": "execute_result"
    }
   ],
   "source": [
    "x.shape"
   ]
  },
  {
   "cell_type": "code",
   "execution_count": 57,
   "id": "7f72f6bc-5d1f-471a-99d9-36f482d7ea77",
   "metadata": {},
   "outputs": [
    {
     "data": {
      "text/plain": [
       "tensor([[-0.1034,  0.0947,  0.1180,  ..., -0.0982, -0.2665,  0.1100],\n",
       "        [-0.1970, -0.0538,  0.1580,  ..., -0.1042, -0.1789, -0.2240],\n",
       "        [ 0.1667,  0.1347,  0.1021,  ...,  0.1365, -0.2528,  0.0143],\n",
       "        ...,\n",
       "        [ 0.0385,  0.1485,  0.0223,  ..., -0.0620, -0.1584,  0.0570],\n",
       "        [ 0.0473,  0.1671,  0.0287,  ..., -0.0631, -0.1732,  0.0255],\n",
       "        [ 0.0731,  0.1770,  0.0294,  ..., -0.0317, -0.1554,  0.0045]],\n",
       "       device='cuda:0')"
      ]
     },
     "execution_count": 57,
     "metadata": {},
     "output_type": "execute_result"
    }
   ],
   "source": [
    "x[0,:,:]"
   ]
  },
  {
   "cell_type": "code",
   "execution_count": 152,
   "id": "1273d068-46ba-4151-9e7d-9244033fd4cd",
   "metadata": {},
   "outputs": [
    {
     "name": "stdout",
     "output_type": "stream",
     "text": [
      "===============================================================================================\n",
      "Layer (type:depth-idx)                        Output Shape              Param #\n",
      "===============================================================================================\n",
      "ESM2                                          --                        --\n",
      "├─Embedding: 1-1                              [1, 28, 320]              10,560\n",
      "├─ModuleList: 1-2                             --                        --\n",
      "│    └─TransformerLayer: 2-1                  [28, 1, 320]              --\n",
      "│    │    └─LayerNorm: 3-1                    [28, 1, 320]              640\n",
      "│    │    └─MultiheadAttention: 3-2           [28, 1, 320]              410,880\n",
      "│    │    └─LayerNorm: 3-3                    [28, 1, 320]              640\n",
      "│    │    └─Linear: 3-4                       [28, 1, 1280]             410,880\n",
      "│    │    └─Linear: 3-5                       [28, 1, 320]              409,920\n",
      "│    └─TransformerLayer: 2-2                  [28, 1, 320]              --\n",
      "│    │    └─LayerNorm: 3-6                    [28, 1, 320]              640\n",
      "│    │    └─MultiheadAttention: 3-7           [28, 1, 320]              410,880\n",
      "│    │    └─LayerNorm: 3-8                    [28, 1, 320]              640\n",
      "│    │    └─Linear: 3-9                       [28, 1, 1280]             410,880\n",
      "│    │    └─Linear: 3-10                      [28, 1, 320]              409,920\n",
      "│    └─TransformerLayer: 2-3                  [28, 1, 320]              --\n",
      "│    │    └─LayerNorm: 3-11                   [28, 1, 320]              640\n",
      "│    │    └─MultiheadAttention: 3-12          [28, 1, 320]              410,880\n",
      "│    │    └─LayerNorm: 3-13                   [28, 1, 320]              640\n",
      "│    │    └─Linear: 3-14                      [28, 1, 1280]             410,880\n",
      "│    │    └─Linear: 3-15                      [28, 1, 320]              409,920\n",
      "│    └─TransformerLayer: 2-4                  [28, 1, 320]              --\n",
      "│    │    └─LayerNorm: 3-16                   [28, 1, 320]              640\n",
      "│    │    └─MultiheadAttention: 3-17          [28, 1, 320]              410,880\n",
      "│    │    └─LayerNorm: 3-18                   [28, 1, 320]              640\n",
      "│    │    └─Linear: 3-19                      [28, 1, 1280]             410,880\n",
      "│    │    └─Linear: 3-20                      [28, 1, 320]              409,920\n",
      "│    └─TransformerLayer: 2-5                  [28, 1, 320]              --\n",
      "│    │    └─LayerNorm: 3-21                   [28, 1, 320]              640\n",
      "│    │    └─MultiheadAttention: 3-22          [28, 1, 320]              410,880\n",
      "│    │    └─LayerNorm: 3-23                   [28, 1, 320]              640\n",
      "│    │    └─Linear: 3-24                      [28, 1, 1280]             410,880\n",
      "│    │    └─Linear: 3-25                      [28, 1, 320]              409,920\n",
      "│    └─TransformerLayer: 2-6                  [28, 1, 320]              --\n",
      "│    │    └─LayerNorm: 3-26                   [28, 1, 320]              640\n",
      "│    │    └─MultiheadAttention: 3-27          [28, 1, 320]              410,880\n",
      "│    │    └─LayerNorm: 3-28                   [28, 1, 320]              640\n",
      "│    │    └─Linear: 3-29                      [28, 1, 1280]             410,880\n",
      "│    │    └─Linear: 3-30                      [28, 1, 320]              409,920\n",
      "├─LayerNorm: 1-3                              [28, 1, 320]              640\n",
      "├─RobertaLMHead: 1-4                          [1, 28, 33]               10,593\n",
      "│    └─Linear: 2-7                            [1, 28, 320]              102,720\n",
      "│    └─LayerNorm: 2-8                         [1, 28, 320]              640\n",
      "===============================================================================================\n",
      "Total params: 7,522,913\n",
      "Trainable params: 7,522,913\n",
      "Non-trainable params: 0\n",
      "Total mult-adds (M): 207.27\n",
      "===============================================================================================\n",
      "Input size (MB): 0.00\n",
      "Forward/backward pass size (MB): 5.02\n",
      "Params size (MB): 30.05\n",
      "Estimated Total Size (MB): 35.07\n",
      "===============================================================================================\n",
      "===============================================================================================\n",
      "Layer (type:depth-idx)                        Output Shape              Param #\n",
      "===============================================================================================\n",
      "ESM2                                          --                        --\n",
      "├─Embedding: 1-1                              [1, 28, 320]              10,560\n",
      "├─ModuleList: 1-2                             --                        --\n",
      "│    └─TransformerLayer: 2-1                  [28, 1, 320]              --\n",
      "│    │    └─LayerNorm: 3-1                    [28, 1, 320]              640\n",
      "│    │    └─MultiheadAttention: 3-2           [28, 1, 320]              410,880\n",
      "│    │    └─LayerNorm: 3-3                    [28, 1, 320]              640\n",
      "│    │    └─Linear: 3-4                       [28, 1, 1280]             410,880\n",
      "│    │    └─Linear: 3-5                       [28, 1, 320]              409,920\n",
      "│    └─TransformerLayer: 2-2                  [28, 1, 320]              --\n",
      "│    │    └─LayerNorm: 3-6                    [28, 1, 320]              640\n",
      "│    │    └─MultiheadAttention: 3-7           [28, 1, 320]              410,880\n",
      "│    │    └─LayerNorm: 3-8                    [28, 1, 320]              640\n",
      "│    │    └─Linear: 3-9                       [28, 1, 1280]             410,880\n",
      "│    │    └─Linear: 3-10                      [28, 1, 320]              409,920\n",
      "│    └─TransformerLayer: 2-3                  [28, 1, 320]              --\n",
      "│    │    └─LayerNorm: 3-11                   [28, 1, 320]              640\n",
      "│    │    └─MultiheadAttention: 3-12          [28, 1, 320]              410,880\n",
      "│    │    └─LayerNorm: 3-13                   [28, 1, 320]              640\n",
      "│    │    └─Linear: 3-14                      [28, 1, 1280]             410,880\n",
      "│    │    └─Linear: 3-15                      [28, 1, 320]              409,920\n",
      "│    └─TransformerLayer: 2-4                  [28, 1, 320]              --\n",
      "│    │    └─LayerNorm: 3-16                   [28, 1, 320]              640\n",
      "│    │    └─MultiheadAttention: 3-17          [28, 1, 320]              410,880\n",
      "│    │    └─LayerNorm: 3-18                   [28, 1, 320]              640\n",
      "│    │    └─Linear: 3-19                      [28, 1, 1280]             410,880\n",
      "│    │    └─Linear: 3-20                      [28, 1, 320]              409,920\n",
      "│    └─TransformerLayer: 2-5                  [28, 1, 320]              --\n",
      "│    │    └─LayerNorm: 3-21                   [28, 1, 320]              640\n",
      "│    │    └─MultiheadAttention: 3-22          [28, 1, 320]              410,880\n",
      "│    │    └─LayerNorm: 3-23                   [28, 1, 320]              640\n",
      "│    │    └─Linear: 3-24                      [28, 1, 1280]             410,880\n",
      "│    │    └─Linear: 3-25                      [28, 1, 320]              409,920\n",
      "│    └─TransformerLayer: 2-6                  [28, 1, 320]              --\n",
      "│    │    └─LayerNorm: 3-26                   [28, 1, 320]              640\n",
      "│    │    └─MultiheadAttention: 3-27          [28, 1, 320]              410,880\n",
      "│    │    └─LayerNorm: 3-28                   [28, 1, 320]              640\n",
      "│    │    └─Linear: 3-29                      [28, 1, 1280]             410,880\n",
      "│    │    └─Linear: 3-30                      [28, 1, 320]              409,920\n",
      "├─LayerNorm: 1-3                              [28, 1, 320]              640\n",
      "├─RobertaLMHead: 1-4                          [1, 28, 33]               10,593\n",
      "│    └─Linear: 2-7                            [1, 28, 320]              102,720\n",
      "│    └─LayerNorm: 2-8                         [1, 28, 320]              640\n",
      "===============================================================================================\n",
      "Total params: 7,522,913\n",
      "Trainable params: 7,522,913\n",
      "Non-trainable params: 0\n",
      "Total mult-adds (M): 207.27\n",
      "===============================================================================================\n",
      "Input size (MB): 0.00\n",
      "Forward/backward pass size (MB): 5.02\n",
      "Params size (MB): 30.05\n",
      "Estimated Total Size (MB): 35.07\n",
      "===============================================================================================\n"
     ]
    }
   ],
   "source": [
    "import torch\n",
    "from torchviz import make_dot\n",
    "from esm import pretrained\n",
    "from torchinfo import summary\n",
    "# Load the pre-trained ESM2 model\n",
    "model, alphabet = pretrained.esm2_t6_8M_UR50D()\n",
    "model.eval()\n",
    "\n",
    "batch_converter = alphabet.get_batch_converter()\n",
    "\n",
    "# Define a sample input sequence\n",
    "sequences = [(\"protein1\", \"MERLGLIEVQREARLGLIEVQQEARL\")]\n",
    "batch_labels, batch_strs, batch_tokens = batch_converter(sequences)\n",
    "\n",
    "# Print a summary of the model\n",
    "# You need to provide a sample input size. Here it uses the actual tokenized output shape\n",
    "print(summary(model, input_data=batch_tokens, verbose=1))"
   ]
  },
  {
   "cell_type": "code",
   "execution_count": 153,
   "id": "bdec6d1f-66d7-4c12-bc3e-8da0e62f87aa",
   "metadata": {},
   "outputs": [
    {
     "name": "stdout",
     "output_type": "stream",
     "text": [
      "torch.Size([2, 28, 33])\n"
     ]
    },
    {
     "data": {
      "text/plain": [
       "[<matplotlib.lines.Line2D at 0x7f1288a7cf40>]"
      ]
     },
     "execution_count": 153,
     "metadata": {},
     "output_type": "execute_result"
    },
    {
     "data": {
      "image/png": "[encoded data removed]",
      "text/plain": [
       "<Figure size 640x480 with 1 Axes>"
      ]
     },
     "metadata": {},
     "output_type": "display_data"
    }
   ],
   "source": [
    "y.shape\n",
    "yy = torch.softmax(y,dim = 1)\n",
    "print(yy.shape)\n",
    "plt.plot(all_tokens,yy[0,-6,:])\n",
    "plt.plot(all_tokens,yy[1,-6,:])\n"
   ]
  },
  {
   "cell_type": "code",
   "execution_count": 89,
   "id": "466ccf75-6000-44c3-9838-53be38e05b67",
   "metadata": {},
   "outputs": [
    {
     "data": {
      "text/plain": [
       "<matplotlib.image.AxesImage at 0x7f115d61c8b0>"
      ]
     },
     "execution_count": 89,
     "metadata": {},
     "output_type": "execute_result"
    },
    {
     "data": {
      "image/png": "[encoded data removed]",
      "text/plain": [
       "<Figure size 640x480 with 1 Axes>"
      ]
     },
     "metadata": {},
     "output_type": "display_data"
    }
   ],
   "source": [
    "from matplotlib import pyplot as plt\n",
    "plt.imshow(y[0,:,:])"
   ]
  },
  {
   "cell_type": "code",
   "execution_count": 90,
   "id": "d2250422-254c-491d-b05f-55e42cfc26ec",
   "metadata": {},
   "outputs": [
    {
     "data": {
      "text/plain": [
       "<matplotlib.image.AxesImage at 0x7f115db3d820>"
      ]
     },
     "execution_count": 90,
     "metadata": {},
     "output_type": "execute_result"
    },
    {
     "data": {
      "image/png": "[encoded data removed]",
      "text/plain": [
       "<Figure size 640x480 with 1 Axes>"
      ]
     },
     "metadata": {},
     "output_type": "display_data"
    }
   ],
   "source": [
    "plt.imshow(y[0,:,:])"
   ]
  },
  {
   "cell_type": "code",
   "execution_count": 84,
   "id": "34d91a6d-e9cb-403b-8cc3-043c985174ba",
   "metadata": {},
   "outputs": [
    {
     "name": "stdout",
     "output_type": "stream",
     "text": [
      "Vocabulary tokens: ['<cls>', '<pad>', '<eos>', '<unk>', 'L', 'A', 'G', 'V', 'S', 'E', 'R', 'T', 'I', 'D', 'P', 'K', 'Q', 'N', 'F', 'Y', 'M', 'H', 'W', 'C', 'X', 'B', 'U', 'Z', 'O', '.', '-', '<null_1>', '<mask>']\n",
      "Number of tokens in the vocabulary: 33\n"
     ]
    }
   ],
   "source": [
    "from esm import pretrained\n",
    "\n",
    "# Load the pre-trained ESM2 model\n",
    "model, alphabet = pretrained.esm2_t6_8M_UR50D()\n",
    "model.eval()\n",
    "\n",
    "# Print all tokens in the alphabet\n",
    "all_tokens = alphabet.all_toks\n",
    "print(\"Vocabulary tokens:\", all_tokens)\n",
    "print(\"Number of tokens in the vocabulary:\", len(all_tokens))\n"
   ]
  },
  {
   "cell_type": "code",
   "execution_count": 120,
   "id": "26626c27-5686-475d-9525-7d23b1a908cb",
   "metadata": {},
   "outputs": [
    {
     "data": {
      "text/plain": [
       "{'logits': tensor([[[ 14.5116,  -8.2826,  -5.1330,  ..., -15.1508, -15.3992,  -8.2861],\n",
       "          [ -6.3762, -15.8363,  -4.0548,  ..., -15.4440, -15.7004, -15.8311],\n",
       "          [ -9.0327, -18.8245,  -7.8812,  ..., -15.6019, -15.7464, -18.8135],\n",
       "          ...,\n",
       "          [ -8.8928, -17.1600,  -7.7431,  ..., -15.5502, -15.4684, -17.1553],\n",
       "          [ -8.7543, -17.8476,  -8.1461,  ..., -15.6040, -15.6257, -17.8514],\n",
       "          [ -4.7209,  -8.6143,  14.7602,  ..., -16.1701, -16.0789,  -8.6491]],\n",
       " \n",
       "         [[ 14.7029,  -7.9352,  -5.1806,  ..., -15.1078, -15.3694,  -7.9422],\n",
       "          [ -6.1455, -14.9152,  -2.7824,  ..., -15.4802, -15.7274, -14.9155],\n",
       "          [ -8.7566, -18.0929,  -7.6082,  ..., -15.5468, -15.7005, -18.0819],\n",
       "          ...,\n",
       "          [ -8.1011, -15.9811,  -6.6479,  ..., -15.4207, -15.3473, -15.9809],\n",
       "          [ -8.3873, -16.9582,  -7.3562,  ..., -15.5149, -15.5202, -16.9660],\n",
       "          [ -4.7539,  -7.8621,  15.0468,  ..., -16.0860, -15.9839,  -7.8963]]]),\n",
       " 'representations': {}}"
      ]
     },
     "execution_count": 120,
     "metadata": {},
     "output_type": "execute_result"
    }
   ],
   "source": [
    "output"
   ]
  },
  {
   "cell_type": "code",
   "execution_count": 127,
   "id": "b93ea2c0-979b-4bfd-aae3-c86d48aa2dbc",
   "metadata": {},
   "outputs": [
    {
     "name": "stdout",
     "output_type": "stream",
     "text": [
      "tensor([[-2.0106e-02, -3.5331e-01,  2.6595e-01,  1.8570e-01, -7.5212e-02,\n",
      "         -1.1436e-01, -1.2769e-01,  2.1396e-02, -8.3994e-02, -9.4285e-02,\n",
      "         -5.7693e-02,  2.3041e-01, -7.8533e-02,  1.3855e-01, -5.8065e-02,\n",
      "          8.8589e-02,  5.5666e-02,  2.4312e-02,  1.4725e-01, -7.6505e-03,\n",
      "         -8.4472e-02,  7.6898e-02, -8.1798e-02,  9.2253e-02,  1.0400e-01,\n",
      "          1.2446e-01,  4.3806e-02,  7.6404e-02,  7.8559e-02, -2.1652e-01,\n",
      "         -2.3314e-02,  1.0923e-02,  9.1769e-02, -1.3926e-01,  6.8006e-02,\n",
      "         -4.2836e-01,  1.7558e-01, -7.1808e-02,  3.2158e-01,  8.4631e-02,\n",
      "         -1.0539e-01,  2.9515e-01,  9.3193e-02, -1.6944e-01, -6.2296e-02,\n",
      "          6.1790e-02, -1.2320e+00,  1.9016e-01, -1.0954e-02, -1.2591e-01,\n",
      "          2.4725e-02, -1.3213e-01,  2.6787e-01,  9.1387e-03, -1.8292e-01,\n",
      "         -1.8288e-01,  1.7039e-01,  1.2718e-02,  5.2696e-03, -1.0016e-01,\n",
      "         -1.0400e-02, -1.1155e-01, -5.2193e+00, -6.8866e-02,  5.4138e-02,\n",
      "          2.1309e-02,  4.7668e-02, -2.2969e-02, -1.2314e-01,  1.3627e-01,\n",
      "         -8.7235e-02, -9.5833e-02, -2.1164e-01,  3.0652e-01, -1.3394e-01,\n",
      "          8.7458e-02,  2.0950e-02,  6.3094e-02, -3.3298e-02,  1.6654e-01,\n",
      "          3.5450e-02,  3.3025e-02,  4.5414e-02,  1.6476e-02, -2.6559e-02,\n",
      "         -2.9064e-01, -2.3654e-02, -4.6992e-02,  1.0980e-01,  3.7789e-02,\n",
      "         -3.4428e-02,  1.2525e-01,  1.5173e-01,  8.4884e-02, -1.0940e-01,\n",
      "          1.8262e-01, -1.3766e-01,  3.4129e-01,  7.4314e-03, -1.8214e-01,\n",
      "         -1.1711e-02,  3.3190e-03, -1.7378e-01,  3.6256e-02, -4.3569e-02,\n",
      "          7.3620e-02,  6.1424e-02,  9.1424e-02,  6.9510e-02, -8.3764e-02,\n",
      "          4.7926e-02,  1.1338e-01,  1.2739e-01, -2.6983e-02,  9.4897e-02,\n",
      "          1.4889e-01, -2.7229e-01,  8.3622e-02, -1.7106e-01,  7.4308e-02,\n",
      "          9.1929e-02, -1.0710e-04,  2.7572e-02, -5.4797e-02,  1.0252e-01,\n",
      "         -7.5552e-02, -4.6555e-02, -2.0173e-01,  1.6824e-02, -1.8108e-03,\n",
      "          5.1870e-03,  4.2127e-02,  1.1517e-01, -1.4169e-02,  1.4418e-02,\n",
      "         -8.5350e-02, -7.0629e-03,  1.1326e-01, -4.0688e-02, -1.0629e-01,\n",
      "          1.1955e-01, -1.4024e-01, -1.7648e-01,  9.7857e-02, -2.5453e-02,\n",
      "          9.9514e-02,  1.0429e-02, -8.4017e-02, -1.2911e-01,  1.0885e-01,\n",
      "         -4.5649e-02,  6.4186e-02, -3.0926e-03, -3.0746e-01, -1.3411e-01,\n",
      "         -1.2732e-01, -1.4077e-03,  8.3014e-02, -5.9639e-02,  8.6548e-02,\n",
      "          3.6458e-02, -1.6088e-01, -1.7719e-02,  5.5022e-02,  1.1047e-01,\n",
      "         -1.2850e-01, -1.8491e-01, -3.8534e-02, -8.6176e-02, -2.9953e-02,\n",
      "          1.1812e-01,  2.0564e-01, -5.9743e-02, -1.0027e-01,  1.5054e-01,\n",
      "          1.6522e-01,  7.1006e-02, -8.8204e-02, -1.6367e-01, -1.7601e-01,\n",
      "          1.5112e-01, -1.3130e-01,  4.9262e-02, -2.9133e-02,  4.7756e-02,\n",
      "          4.0218e-02, -3.9732e-01,  1.9160e-01, -7.1363e-02, -4.8654e-02,\n",
      "          1.6288e-02, -4.3747e-02,  4.4182e-01,  2.3034e-01,  3.3674e-02,\n",
      "          1.0387e-01,  2.9456e-02,  2.1403e-02,  7.6507e-02,  4.2918e-01,\n",
      "          1.7816e-02,  6.7430e-02,  2.0260e-01,  6.1686e-02, -3.0766e-03,\n",
      "         -1.5326e-01, -1.7938e-02, -3.1665e-01,  2.0483e-01,  2.4173e-01,\n",
      "          6.5507e-02,  1.4329e-02, -9.4806e-02,  1.4527e-01,  2.4347e-02,\n",
      "          2.7738e-01, -2.1464e-02, -2.9739e-02,  4.9263e-02,  5.6612e-02,\n",
      "         -2.8981e-01, -1.2184e-01,  2.6631e-01,  6.5022e-02,  1.8079e-01,\n",
      "          8.1185e-02, -8.0264e-02,  6.9320e-02, -1.6591e-01,  6.3116e-02,\n",
      "          6.0922e-02,  4.1245e-02,  1.8701e-01,  1.0583e-01,  6.1626e-03,\n",
      "          1.5460e-01,  1.2890e-01, -9.6841e-02,  8.3325e-02,  8.1401e-02,\n",
      "         -1.3169e-01, -1.4487e-01, -7.7873e-02,  6.5438e-02, -5.8508e-02,\n",
      "          2.9783e-02,  3.2131e-01,  2.4196e-01,  8.3566e-02,  8.7982e-02,\n",
      "         -3.3651e-03, -8.5408e-02, -1.4773e-01,  8.8478e-02,  7.1100e-03,\n",
      "          4.6908e-02, -5.0372e-02, -1.6404e-01,  1.4528e-01, -1.4510e-01,\n",
      "          5.5703e-02,  3.3222e-02, -5.2326e-02,  1.3763e-01, -2.6576e-02,\n",
      "         -1.7218e-02, -2.7619e-02, -1.9072e-01,  1.1914e-01, -3.2185e-02,\n",
      "          1.4924e-01,  2.0617e-01,  1.2227e-01,  2.6848e-01,  1.0077e-01,\n",
      "         -1.2603e-01,  6.5835e-02,  1.2320e-01,  1.1590e-01,  6.3121e-02,\n",
      "         -1.5781e-01, -1.0182e-01,  4.2843e-03,  7.4201e-03,  5.2086e-02,\n",
      "          3.2653e-01, -1.1371e-01, -8.9915e-02, -9.0073e-02, -2.8274e-01,\n",
      "         -2.5111e-02, -1.1241e-02,  3.6668e-01, -6.2595e-02, -3.0995e-02,\n",
      "         -2.2343e-01, -6.8980e-02,  6.3828e-02, -3.8414e-01,  5.8435e-02,\n",
      "         -8.3848e-03, -1.8702e-01, -6.6211e-02,  1.3278e-01, -5.4667e-02,\n",
      "         -2.3947e-02, -7.5846e-02, -3.4106e-02,  1.3176e-01, -1.6000e-01,\n",
      "          5.2131e-02,  1.3147e-02,  1.2445e-01,  3.8970e-02,  3.9152e-02,\n",
      "          2.9646e-02, -1.2592e-01,  2.0268e-01,  1.0438e-01, -3.1934e-02],\n",
      "        [-1.9657e-01, -6.5966e-01,  4.4918e-01,  2.7270e-01, -2.2913e-01,\n",
      "          1.7627e-03,  9.8633e-03,  1.9713e-01, -1.0372e-01, -6.5759e-02,\n",
      "          3.5895e-02,  2.8602e-01, -9.9640e-02,  1.5749e-01, -2.0261e-01,\n",
      "          2.3516e-01, -2.3968e-02, -5.1794e-02,  8.0228e-02,  3.5597e-02,\n",
      "         -2.3115e-02,  1.3199e-02, -1.0522e-01,  9.3388e-02,  3.1263e-01,\n",
      "          1.5441e-01,  6.4691e-02,  1.5251e-01,  1.5245e-01, -3.1242e-01,\n",
      "          2.4315e-01, -1.2590e-02, -1.1681e-01, -3.1512e-01,  9.1872e-02,\n",
      "         -3.5846e-01,  8.3561e-02, -2.6503e-02,  3.1376e-01,  6.7489e-02,\n",
      "         -5.0711e-02,  2.7539e-01,  9.5916e-02, -2.5575e-01, -1.5278e-01,\n",
      "          3.5759e-02, -1.1722e+00,  3.8779e-01, -1.9471e-02, -4.6262e-02,\n",
      "         -1.1911e-01, -2.2627e-01,  3.4507e-01,  6.4951e-02, -1.0286e-01,\n",
      "          5.8141e-02,  2.1810e-01, -9.4385e-03,  1.8733e-01, -9.4275e-02,\n",
      "         -1.1907e-01, -9.3948e-03, -4.1114e+00, -5.3786e-02, -2.9899e-01,\n",
      "          5.2921e-02, -8.3581e-02,  1.1957e-01, -3.2634e-01,  9.3881e-02,\n",
      "          1.2197e-01, -1.6936e-01, -2.9509e-01,  1.4122e-01, -1.5629e-01,\n",
      "          1.5970e-01, -3.0820e-02,  1.3955e-01,  5.9946e-02,  1.8301e-01,\n",
      "          6.0547e-04,  1.0306e-01,  3.2672e-02,  8.7531e-02, -2.0976e-01,\n",
      "         -2.8495e-01, -5.8472e-02, -1.5157e-01, -2.4380e-02,  1.2806e-01,\n",
      "         -1.1315e-01,  4.0933e-01,  5.2948e-03, -5.8025e-02, -1.2168e-01,\n",
      "          2.5677e-01, -1.9247e-01,  1.8706e-01,  7.8964e-02, -1.2803e-01,\n",
      "          3.5627e-03, -1.3647e-01, -3.1484e-01,  1.0396e-01, -2.6723e-01,\n",
      "          4.8669e-02, -1.7679e-01,  5.7427e-02, -9.9687e-02, -2.1519e-01,\n",
      "          2.2324e-01,  3.3929e-01,  2.3074e-01,  1.6064e-01,  3.3081e-01,\n",
      "          1.3481e-01, -1.1894e-01,  3.8228e-01, -9.5641e-02,  2.8235e-01,\n",
      "          3.8082e-02,  1.4229e-01, -8.8800e-02,  2.5405e-01,  1.0363e-01,\n",
      "         -2.2181e-01, -8.4447e-02, -9.7837e-02,  1.3089e-01, -1.4350e-01,\n",
      "         -5.3999e-02,  9.8216e-02, -3.9080e-02, -1.4584e-01,  1.8041e-02,\n",
      "         -1.3375e-02,  8.3291e-02,  1.7254e-01,  5.8056e-02, -9.8423e-02,\n",
      "          1.3692e-01, -1.8585e-01, -1.2402e-01,  1.0629e-01, -2.4767e-02,\n",
      "         -1.8350e-01, -1.3932e-01,  4.3318e-02,  1.7235e-01,  5.7278e-02,\n",
      "          4.3702e-02,  6.7214e-02, -1.1465e-01, -3.1560e-01, -1.2024e-01,\n",
      "         -1.2828e-01, -8.9457e-02,  1.9295e-02,  2.2812e-01,  1.1657e-01,\n",
      "         -1.1041e-01, -2.0522e-01, -1.5535e-01, -1.4258e-01,  6.4823e-02,\n",
      "         -5.5927e-02, -1.0355e-01, -4.2234e-02, -2.8891e-01,  2.7094e-02,\n",
      "          3.8859e-01,  2.7640e-01, -8.6573e-02,  9.9768e-02,  2.1364e-01,\n",
      "          2.1650e-01, -7.0034e-03, -6.1203e-02,  1.2477e-02, -2.0857e-01,\n",
      "          2.7235e-01, -2.4839e-01, -1.3647e-02, -4.5791e-03, -5.2523e-02,\n",
      "          3.3463e-02, -3.9756e-01,  2.6801e-01, -2.4862e-01, -8.4355e-02,\n",
      "         -1.2485e-01,  1.3012e-02, -1.0189e-01,  3.1065e-01,  2.2744e-01,\n",
      "          5.3587e-02, -2.9097e-02, -3.1026e-01, -1.9052e-01,  4.8997e-01,\n",
      "         -4.4874e-02, -2.3367e-02,  2.8648e-01,  4.7836e-02,  8.5772e-02,\n",
      "         -8.3000e-02, -2.5525e-01, -2.1790e-01,  1.2234e-01,  1.5928e-01,\n",
      "         -1.1064e-01,  4.1252e-02, -3.6305e-02,  1.9449e-01,  5.4040e-02,\n",
      "          1.6098e-01, -3.3495e-02, -3.5619e-02, -1.3344e-01,  1.8936e-01,\n",
      "         -2.2288e-01, -8.7976e-02,  2.2738e-01, -2.0729e-02,  2.9899e-01,\n",
      "          1.6786e-01, -2.5081e-01,  2.5681e-01, -2.9144e-01, -1.5146e-01,\n",
      "         -2.7719e-01,  4.8830e-02,  2.8762e-01,  1.8596e-01, -1.2600e-01,\n",
      "          1.0369e-01,  1.1783e-01,  3.4288e-02,  1.3543e-01, -1.5398e-02,\n",
      "         -5.2861e-03, -9.3087e-02,  1.2556e-03,  5.6073e-02, -1.4951e-01,\n",
      "          2.9924e-02,  3.0341e-01,  1.7520e-01,  9.6390e-02,  1.7272e-01,\n",
      "         -9.7031e-02, -1.5460e-01, -1.3509e-01,  2.0903e-01, -4.0867e-02,\n",
      "         -3.2364e-02, -9.0912e-03, -1.5577e-01, -1.1836e-01, -1.6124e-01,\n",
      "         -1.6964e-02, -1.4446e-01, -3.0627e-01,  1.9217e-01, -3.9352e-02,\n",
      "          5.3585e-02, -2.0208e-01,  5.1568e-04,  1.4582e-01,  6.7721e-02,\n",
      "          2.0058e-01,  1.3635e-01,  2.9175e-01,  1.1412e-01,  2.3471e-01,\n",
      "         -1.0181e-01,  5.5209e-02,  1.0612e-01,  2.1737e-01,  1.0760e-01,\n",
      "         -7.4591e-02, -3.5359e-01, -1.5798e-01, -1.9808e-02, -2.1696e-01,\n",
      "          1.6641e-01, -9.5197e-02,  3.1568e-02, -1.0013e-01, -3.7576e-01,\n",
      "         -7.7912e-02,  1.7828e-01,  2.3510e-01, -1.9266e-01,  2.5598e-02,\n",
      "         -2.0898e-01, -2.1367e-01, -1.6352e-02, -4.2183e-01,  2.6331e-01,\n",
      "          1.6300e-01, -2.2019e-01,  1.0248e-01,  5.0486e-02, -9.7939e-02,\n",
      "         -2.1382e-01, -1.7178e-01,  2.7315e-01,  1.6203e-01,  1.2644e-02,\n",
      "          9.1584e-02,  1.4194e-02,  7.4440e-02,  1.9305e-01,  1.6351e-02,\n",
      "          2.5097e-01, -6.9077e-02,  2.3918e-01,  1.5599e-01, -1.7435e-02]])\n",
      "Shape of sequence embedding: torch.Size([2, 320])\n"
     ]
    }
   ],
   "source": [
    "import torch\n",
    "from esm import pretrained\n",
    "\n",
    "# Load the pre-trained ESM2 model\n",
    "model, alphabet = pretrained.esm2_t6_8M_UR50D()\n",
    "model.eval()\n",
    "\n",
    "# Create a batch converter for handling sequences\n",
    "batch_converter = alphabet.get_batch_converter()\n",
    "\n",
    "# Define sample input sequences with different lengths\n",
    "sequences = [\n",
    "    (\"protein1\", \"MKTAYIAKQRQISFVKSHFSRQLEERLGLIEVQREARL\"),\n",
    "    (\"protein2\", \"MKTAYIAKQRQISFVKSHFSRQLEERLGLIEVQREARLGLIEVQREARL\")\n",
    "]\n",
    "batch_labels, batch_strs, batch_tokens = batch_converter(sequences)\n",
    "\n",
    "# Create an attention mask (1 for actual tokens, 0 for padding)\n",
    "# The batch_tokens tensor has shape (batch_size, sequence_length)\n",
    "mask = (batch_tokens != alphabet.padding_idx).float()\n",
    "\n",
    "# Forward pass through the model to get hidden states\n",
    "with torch.no_grad():\n",
    "    results = model(batch_tokens, repr_layers=[model.num_layers])\n",
    "    token_representations = results[\"representations\"][model.num_layers]\n",
    "\n",
    "# Apply the mask and compute the mean of valid tokens\n",
    "masked_token_representations = token_representations * mask.unsqueeze(-1)\n",
    "sum_representations = masked_token_representations.sum(dim=1)\n",
    "mask_sum = mask.sum(dim=1, keepdim=True)\n",
    "sequence_embedding = sum_representations / mask_sum\n",
    "\n",
    "# Print the sequence embeddings\n",
    "print(sequence_embedding)\n",
    "print(f\"Shape of sequence embedding: {sequence_embedding.shape}\")\n"
   ]
  },
  {
   "cell_type": "code",
   "execution_count": null,
   "id": "b21f65e6-c3ed-48ff-8a79-d2364163adcd",
   "metadata": {},
   "outputs": [],
   "source": []
  },
  {
   "cell_type": "code",
   "execution_count": null,
   "id": "64ee3245-8ab8-4aba-b690-d0242a23d896",
   "metadata": {},
   "outputs": [],
   "source": []
  }
 ],
 "metadata": {
  "kernelspec": {
   "display_name": "Python 3 (ipykernel)",
   "language": "python",
   "name": "python3"
  },
  "language_info": {
   "codemirror_mode": {
    "name": "ipython",
    "version": 3
   },
   "file_extension": ".py",
   "mimetype": "text/x-python",
   "name": "python",
   "nbconvert_exporter": "python",
   "pygments_lexer": "ipython3",
   "version": "3.9.18"
  }
 },
 "nbformat": 4,
 "nbformat_minor": 5
}
